{
 "cells": [
  {
   "cell_type": "code",
   "execution_count": 22,
   "id": "618897fb",
   "metadata": {},
   "outputs": [],
   "source": [
    "import gym\n",
    "import random\n",
    "import copy\n",
    "import numpy as np\n",
    "from collections import deque\n",
    "from gym.spaces.box import Box\n",
    "from gym import wrappers\n",
    "from gym.wrappers import TransformObservation\n",
    "import itertools\n",
    "import torch\n",
    "import torch.nn as nn\n",
    "import torch.nn.functional as F\n",
    "from torch.optim import AdamW\n",
    "from torch.utils.data import DataLoader, IterableDataset\n",
    "\n",
    "from pytorch_lightning import LightningModule, Trainer\n",
    "from pytorch_lightning.callbacks import EarlyStopping, ModelCheckpoint\n",
    "\n",
    "from gym.wrappers import RecordVideo, RecordEpisodeStatistics, TimeLimit, AtariPreprocessing\n",
    "\n",
    "\n",
    "device = 'cuda:0' if torch.cuda.is_available() else 'cpu'\n",
    "num_gpus = torch.cuda.device_count()"
   ]
  },
  {
   "cell_type": "code",
   "execution_count": 23,
   "id": "45cb7faf",
   "metadata": {},
   "outputs": [],
   "source": [
    "class DRQN(nn.Module):\n",
    "    def __init__(self, state_size , n_actions):\n",
    "        super(DRQN, self).__init__()\n",
    "        \n",
    "        self.state_size = state_size\n",
    "        self.seq = nn.Sequential(\n",
    "                     nn.Linear(state_size[0], 128),\n",
    "                     nn.ReLU(),\n",
    "                     nn.Linear(128, 128),\n",
    "                     nn.ReLU(),\n",
    "                     nn.Linear(128, 128)    \n",
    "                    )\n",
    "        self.lstm = nn.LSTMCell(128, 256)\n",
    "        self.linear = nn.Linear(256, n_actions)\n",
    "        \n",
    "   \n",
    "    def forward(self, x, prev_state=None):        \n",
    "        o = self.seq(x.float())\n",
    "        if prev_state is not None:\n",
    "            hs, ct = self.lstm(o, prev_state)\n",
    "        else:\n",
    "            hs = torch.zeros(x.shape[0], 256).to(device)\n",
    "            ct = torch.zeros(x.shape[0], 256).to(device)\n",
    "            hs, ct = self.lstm(o, (hs,ct))    \n",
    "        q_values = self.linear(hs)\n",
    "        return q_values, (hs, ct)"
   ]
  },
  {
   "cell_type": "code",
   "execution_count": 24,
   "id": "d91fbd1c",
   "metadata": {},
   "outputs": [],
   "source": [
    "def epsilon_greedy(state, env, net, hidden=None, epsilon=0.0):\n",
    "    if np.random.random() < epsilon:\n",
    "        action = env.action_space.sample()\n",
    "    else:\n",
    "        state = state.to(device)\n",
    "        q_values, hidden = net(state, hidden)\n",
    "        _, action = torch.max(q_values, dim=1)\n",
    "        action = int(action.item())\n",
    "    return action, hidden"
   ]
  },
  {
   "cell_type": "code",
   "execution_count": 25,
   "id": "9ec9d5eb",
   "metadata": {},
   "outputs": [],
   "source": [
    "def slice_deque(buffer, start, stop, step):\n",
    "    buffer.rotate(-start)\n",
    "    slice = list(itertools.islice(buffer, 0, stop-start, step))\n",
    "    buffer.rotate(start)\n",
    "    return slice\n",
    "\n",
    "class ReplayBuffer:\n",
    "    def __init__(self, capacity):\n",
    "        self.buffer = deque(maxlen=capacity)\n",
    "        \n",
    "    def __len__(self):\n",
    "        return len(self.buffer)\n",
    "    \n",
    "    def append(self, experience):\n",
    "        self.buffer.append(experience)\n",
    "        \n",
    "    def sample(self, sample_size, sequence_len):\n",
    "        batch = []\n",
    "        while len(batch) < sample_size :\n",
    "            start = random.randint(0, len(self.buffer) - sequence_len)\n",
    "            sequenze_sample = slice_deque(self.buffer, start, start + sequence_len, 1)\n",
    "            batch += sequenze_sample\n",
    "            \n",
    "        return batch"
   ]
  },
  {
   "cell_type": "code",
   "execution_count": 26,
   "id": "51c92245",
   "metadata": {},
   "outputs": [],
   "source": [
    "class RLDataset(IterableDataset):\n",
    "    def __init__(self, buffer, sample_size=400, sequence_len=5):\n",
    "        self.buffer = buffer\n",
    "        self.sample_size = sample_size\n",
    "        self.sequence_len = sequence_len\n",
    "        \n",
    "    def __iter__(self):\n",
    "        for experience in self.buffer.sample(self.sample_size,self.sequence_len):\n",
    "            yield experience"
   ]
  },
  {
   "cell_type": "code",
   "execution_count": 27,
   "id": "1bb78db0",
   "metadata": {},
   "outputs": [],
   "source": [
    "def create_environment(name):\n",
    "    env = gym.make(name, render_mode=\"rgb_array\")\n",
    "    env = TimeLimit(env, max_episode_steps=400)\n",
    "    env = RecordVideo(env, video_folder='./videos/DRQN_LunarLander', episode_trigger=lambda x: x % 100 == 0)\n",
    "    env = RecordEpisodeStatistics(env)\n",
    "    return env\n",
    "\n"
   ]
  },
  {
   "cell_type": "code",
   "execution_count": 28,
   "id": "1040f865",
   "metadata": {},
   "outputs": [],
   "source": [
    "class DeepQLearning(LightningModule):\n",
    "    def __init__(self, env_name, policy=epsilon_greedy, capacity=100_000, \n",
    "               batch_size=256, lr=1e-3, hidden_size=128, gamma=0.99, \n",
    "               loss_fn=F.smooth_l1_loss, optim=AdamW, eps_start=1.0, eps_end=0.15, \n",
    "               eps_last_episode=100, samples_per_epoch=1024, sync_rate=10,\n",
    "               sequence_length = 4):\n",
    "    \n",
    "        super().__init__()\n",
    "        self.env = create_environment(env_name)\n",
    "\n",
    "        obs_size = self.env.observation_space.shape\n",
    "        n_actions = self.env.action_space.n\n",
    "\n",
    "        self.q_net = DRQN(obs_size, n_actions)\n",
    "\n",
    "        self.target_q_net = copy.deepcopy(self.q_net)\n",
    "\n",
    "        self.policy = policy\n",
    "        self.buffer = ReplayBuffer(capacity=capacity)\n",
    "        self.save_hyperparameters()\n",
    "\n",
    "        while len(self.buffer) < self.hparams.samples_per_epoch:\n",
    "            print(f\"{len(self.buffer)} samples in experience buffer. Filling...\")\n",
    "            self.play_episode(epsilon=self.hparams.eps_start)\n",
    "            \n",
    "    @torch.no_grad()\n",
    "    def play_episode(self, policy=None, epsilon=0.):\n",
    "        state  = self.env.reset()\n",
    "        state  = torch.from_numpy(state[0])\n",
    "        hidden = None\n",
    "        done = False\n",
    "        step = 0\n",
    "        while not done:\n",
    "            if policy:\n",
    "                action, hidden = policy(state.unsqueeze(dim=0), self.env, self.q_net, hidden, epsilon=epsilon)\n",
    "            else:\n",
    "                action = self.env.action_space.sample()\n",
    "            next_state, reward, done, tru , _ = self.env.step(action)\n",
    "            if tru:\n",
    "                done = tru\n",
    "            step += 1 \n",
    "            next_state = torch.from_numpy(next_state)   \n",
    "            exp = (step, state, action, reward, done, next_state)\n",
    "            self.buffer.append(exp)\n",
    "            state = next_state\n",
    "            \n",
    "        self.env.close()\n",
    "        \n",
    "        \n",
    "    def forward(self, x):\n",
    "        return self.q_net(x)\n",
    "\n",
    "    \n",
    "    def configure_optimizers(self):\n",
    "        q_net_optimizer = self.hparams.optim(self.q_net.parameters(), lr=self.hparams.lr)\n",
    "        return [q_net_optimizer]\n",
    "\n",
    "     # Create dataloader.\n",
    "    def train_dataloader(self):\n",
    "        dataset = RLDataset(self.buffer, self.hparams.samples_per_epoch, self.hparams.sequence_length)\n",
    "       \n",
    "        dataloader = DataLoader(\n",
    "            dataset=dataset,\n",
    "            batch_size=self.hparams.batch_size * self.hparams.sequence_length\n",
    "        )\n",
    "        return dataloader\n",
    "    \n",
    "    def training_step(self, batch, batch_idx):\n",
    "        steps, states, actions, rewards, dones, next_states = batch\n",
    "        actions = actions.unsqueeze(1)\n",
    "        rewards = rewards.unsqueeze(1)\n",
    "        dones = dones.unsqueeze(1)\n",
    "        \n",
    "        stack_q_values = []\n",
    "        stack_actions = []\n",
    "        stack_rewards = []\n",
    "        stack_dones = []\n",
    "        hidden = None\n",
    "        for i in range(self.hparams.sequence_length):\n",
    "            stack_actions.append(actions[i::self.hparams.sequence_length])\n",
    "            stack_dones.append(dones[i::self.hparams.sequence_length])\n",
    "            stack_rewards.append(rewards[i::self.hparams.sequence_length])\n",
    "            q_values, hidden  = self.q_net(states[i::self.hparams.sequence_length],hidden)\n",
    "            stack_q_values.append(q_values)\n",
    "        stack_q_values = torch.cat(stack_q_values,dim=0)\n",
    "        stack_actions = torch.cat(stack_actions,dim=0)\n",
    "        stack_dones = torch.cat(stack_dones,dim=0)\n",
    "        stack_rewards = torch.cat(stack_rewards,dim=0)\n",
    "\n",
    "    \n",
    "        state_action_values = torch.gather(stack_q_values, -1, stack_actions)\n",
    "        \n",
    "        \n",
    "        stack_next_q_values = []\n",
    "        hidden = None\n",
    "        for i in range(self.hparams.sequence_length):\n",
    "            q_values, hidden = self.target_q_net(next_states[i::self.hparams.sequence_length],hidden)\n",
    "            stack_next_q_values.append(q_values)\n",
    "                \n",
    "        stack_next_q_values = torch.cat(stack_next_q_values,dim=0)\n",
    "        next_action_values = torch.max(stack_next_q_values, dim=1)[0].unsqueeze(dim=1)\n",
    "        next_action_values[stack_dones] = 0.0\n",
    "\n",
    "        expected_state_action_values = stack_rewards + self.hparams.gamma * next_action_values\n",
    "\n",
    "        loss = self.hparams.loss_fn(state_action_values, expected_state_action_values)\n",
    "        self.log('episode/Q-Error', loss)\n",
    "        return loss\n",
    "    \n",
    "    # Training epoch end.\n",
    "    def training_epoch_end(self, training_step_outputs):\n",
    "        epsilon = max(\n",
    "            self.hparams.eps_end,\n",
    "            self.hparams.eps_start - self.current_epoch / self.hparams.eps_last_episode\n",
    "        )\n",
    "\n",
    "        self.play_episode(policy=self.policy, epsilon=epsilon)\n",
    "        self.log('episode/Return', self.env.return_queue[-1])\n",
    "\n",
    "        if self.current_epoch % self.hparams.sync_rate == 0:\n",
    "            self.target_q_net.load_state_dict(self.q_net.state_dict())\n",
    "            \n",
    "    def save_model(self):\n",
    "        torch.save(self.q_net.state_dict(), \"./model\")\n",
    "        \n",
    "    def load_model(self):\n",
    "        self.q_net.load_state_dict(torch.load( \"./model\"))\n"
   ]
  },
  {
   "cell_type": "code",
   "execution_count": 29,
   "id": "6a5d649b",
   "metadata": {},
   "outputs": [
    {
     "name": "stderr",
     "output_type": "stream",
     "text": [
      "D:\\multi_agents_rl\\env\\lib\\site-packages\\gym\\wrappers\\record_video.py:75: UserWarning: \u001b[33mWARN: Overwriting existing videos at D:\\multi_agents_rl\\videos\\DRQN_LunarLander folder (try specifying a different `video_folder` for the `RecordVideo` wrapper if this is not desired)\u001b[0m\n",
      "  logger.warn(\n"
     ]
    },
    {
     "name": "stdout",
     "output_type": "stream",
     "text": [
      "0 samples in experience buffer. Filling...\n",
      "Moviepy - Building video D:\\multi_agents_rl\\videos\\DRQN_LunarLander\\rl-video-episode-0.mp4.\n",
      "Moviepy - Writing video D:\\multi_agents_rl\\videos\\DRQN_LunarLander\\rl-video-episode-0.mp4\n",
      "\n"
     ]
    },
    {
     "name": "stderr",
     "output_type": "stream",
     "text": [
      "GPU available: True (cuda), used: True                                                                                                                                         \n",
      "TPU available: False, using: 0 TPU cores\n",
      "IPU available: False, using: 0 IPUs\n",
      "HPU available: False, using: 0 HPUs\n",
      "D:\\multi_agents_rl\\env\\lib\\site-packages\\pytorch_lightning\\callbacks\\model_checkpoint.py:616: UserWarning: Checkpoint directory D:\\multi_agents_rl\\checkpoints\\DRQN-LunarLander exists and is not empty.\n",
      "  rank_zero_warn(f\"Checkpoint directory {dirpath} exists and is not empty.\")\n",
      "LOCAL_RANK: 0 - CUDA_VISIBLE_DEVICES: [0]\n",
      "\n",
      "  | Name         | Type | Params\n",
      "--------------------------------------\n",
      "0 | q_net        | DRQN | 430 K \n",
      "1 | target_q_net | DRQN | 430 K \n",
      "--------------------------------------\n",
      "860 K     Trainable params\n",
      "0         Non-trainable params\n",
      "860 K     Total params\n",
      "3.444     Total estimated model params size (MB)\n"
     ]
    },
    {
     "name": "stdout",
     "output_type": "stream",
     "text": [
      "Moviepy - Done !\n",
      "Moviepy - video ready D:\\multi_agents_rl\\videos\\DRQN_LunarLander\\rl-video-episode-0.mp4\n",
      "111 samples in experience buffer. Filling...\n",
      "200 samples in experience buffer. Filling...\n",
      "312 samples in experience buffer. Filling...\n",
      "429 samples in experience buffer. Filling...\n",
      "525 samples in experience buffer. Filling...\n",
      "611 samples in experience buffer. Filling...\n",
      "750 samples in experience buffer. Filling...\n",
      "874 samples in experience buffer. Filling...\n",
      "945 samples in experience buffer. Filling...\n",
      "1015 samples in experience buffer. Filling...\n"
     ]
    },
    {
     "name": "stderr",
     "output_type": "stream",
     "text": [
      "D:\\multi_agents_rl\\env\\lib\\site-packages\\pytorch_lightning\\trainer\\connectors\\data_connector.py:236: PossibleUserWarning: The dataloader, train_dataloader, does not have many workers which may be a bottleneck. Consider increasing the value of the `num_workers` argument` (try 8 which is the number of cpus on this machine) in the `DataLoader` init to improve performance.\n",
      "  rank_zero_warn(\n"
     ]
    },
    {
     "name": "stdout",
     "output_type": "stream",
     "text": [
      "Moviepy - Building video D:\\multi_agents_rl\\videos\\DRQN_LunarLander\\rl-video-episode-100.mp4.\n",
      "Moviepy - Writing video D:\\multi_agents_rl\\videos\\DRQN_LunarLander\\rl-video-episode-100.mp4\n",
      "\n",
      "Epoch 88: : 1it [00:00,  2.69it/s, loss=2, v_num=12]"
     ]
    },
    {
     "name": "stderr",
     "output_type": "stream",
     "text": [
      "\n",
      "t:   0%|                                                                                                                                       | 0/1 [00:00<?, ?it/s, now=None]\u001b[A\n",
      "                                                                                                                                                                               \u001b[A"
     ]
    },
    {
     "name": "stdout",
     "output_type": "stream",
     "text": [
      "Moviepy - Done !                                    \n",
      "Moviepy - video ready D:\\multi_agents_rl\\videos\\DRQN_LunarLander\\rl-video-episode-100.mp4\n",
      "Moviepy - Building video D:\\multi_agents_rl\\videos\\DRQN_LunarLander\\rl-video-episode-100.mp4.\n",
      "Moviepy - Writing video D:\\multi_agents_rl\\videos\\DRQN_LunarLander\\rl-video-episode-100.mp4\n",
      "\n",
      "Epoch 89: : 1it [00:01,  1.16s/it, loss=2.01, v_num=12]"
     ]
    },
    {
     "name": "stderr",
     "output_type": "stream",
     "text": [
      "\n",
      "t:   0%|                                                                                                                                     | 0/234 [00:00<?, ?it/s, now=None]\u001b[A\n",
      "t:  17%|████████████████████▌                                                                                                      | 39/234 [00:00<00:00, 386.16it/s, now=None]\u001b[A\n",
      "t:  44%|██████████████████████████████████████████████████████▏                                                                   | 104/234 [00:00<00:00, 540.72it/s, now=None]\u001b[A\n",
      "t:  74%|██████████████████████████████████████████████████████████████████████████████████████████▏                               | 173/234 [00:00<00:00, 602.34it/s, now=None]\u001b[A\n",
      "                                                                                                                                                                               \u001b[A"
     ]
    },
    {
     "name": "stdout",
     "output_type": "stream",
     "text": [
      "Moviepy - Done !                                       \n",
      "Moviepy - video ready D:\\multi_agents_rl\\videos\\DRQN_LunarLander\\rl-video-episode-100.mp4\n",
      "Moviepy - Building video D:\\multi_agents_rl\\videos\\DRQN_LunarLander\\rl-video-episode-200.mp4.\n",
      "Moviepy - Writing video D:\\multi_agents_rl\\videos\\DRQN_LunarLander\\rl-video-episode-200.mp4\n",
      "\n",
      "Epoch 188: : 1it [00:00,  2.96it/s, loss=1.3, v_num=12]"
     ]
    },
    {
     "name": "stderr",
     "output_type": "stream",
     "text": [
      "\n",
      "t:   0%|                                                                                                                                       | 0/1 [00:00<?, ?it/s, now=None]\u001b[A\n",
      "                                                                                                                                                                               \u001b[A"
     ]
    },
    {
     "name": "stdout",
     "output_type": "stream",
     "text": [
      "Moviepy - Done !                                       \n",
      "Moviepy - video ready D:\\multi_agents_rl\\videos\\DRQN_LunarLander\\rl-video-episode-200.mp4\n",
      "Moviepy - Building video D:\\multi_agents_rl\\videos\\DRQN_LunarLander\\rl-video-episode-200.mp4.\n",
      "Moviepy - Writing video D:\\multi_agents_rl\\videos\\DRQN_LunarLander\\rl-video-episode-200.mp4\n",
      "\n",
      "Epoch 189: : 1it [00:01,  1.22s/it, loss=1.3, v_num=12]"
     ]
    },
    {
     "name": "stderr",
     "output_type": "stream",
     "text": [
      "\n",
      "t:   0%|                                                                                                                                     | 0/157 [00:00<?, ?it/s, now=None]\u001b[A\n",
      "t:   6%|███████▏                                                                                                                     | 9/157 [00:00<00:01, 88.51it/s, now=None]\u001b[A\n",
      "t:  34%|█████████████████████████████████████████▌                                                                                 | 53/157 [00:00<00:00, 293.83it/s, now=None]\u001b[A\n",
      "t:  67%|█████████████████████████████████████████████████████████████████████████████████▌                                        | 105/157 [00:00<00:00, 393.14it/s, now=None]\u001b[A\n",
      "t: 100%|██████████████████████████████████████████████████████████████████████████████████████████████████████████████████████████| 157/157 [00:00<00:00, 439.40it/s, now=None]\u001b[A\n",
      "                                                                                                                                                                               \u001b[A"
     ]
    },
    {
     "name": "stdout",
     "output_type": "stream",
     "text": [
      "Moviepy - Done !                                       \n",
      "Moviepy - video ready D:\\multi_agents_rl\\videos\\DRQN_LunarLander\\rl-video-episode-200.mp4\n",
      "Moviepy - Building video D:\\multi_agents_rl\\videos\\DRQN_LunarLander\\rl-video-episode-300.mp4.\n",
      "Moviepy - Writing video D:\\multi_agents_rl\\videos\\DRQN_LunarLander\\rl-video-episode-300.mp4\n",
      "\n",
      "Epoch 288: : 1it [00:00,  1.39it/s, loss=1.26, v_num=12]"
     ]
    },
    {
     "name": "stderr",
     "output_type": "stream",
     "text": [
      "\n",
      "t:   0%|                                                                                                                                       | 0/1 [00:00<?, ?it/s, now=None]\u001b[A\n",
      "                                                                                                                                                                               \u001b[A"
     ]
    },
    {
     "name": "stdout",
     "output_type": "stream",
     "text": [
      "Moviepy - Done !                                        \n",
      "Moviepy - video ready D:\\multi_agents_rl\\videos\\DRQN_LunarLander\\rl-video-episode-300.mp4\n",
      "Moviepy - Building video D:\\multi_agents_rl\\videos\\DRQN_LunarLander\\rl-video-episode-300.mp4.\n",
      "Moviepy - Writing video D:\\multi_agents_rl\\videos\\DRQN_LunarLander\\rl-video-episode-300.mp4\n",
      "\n",
      "Epoch 289: : 1it [00:03,  3.32s/it, loss=1.25, v_num=12]"
     ]
    },
    {
     "name": "stderr",
     "output_type": "stream",
     "text": [
      "\n",
      "t:   0%|                                                                                                                                     | 0/401 [00:00<?, ?it/s, now=None]\u001b[A\n",
      "t:   1%|█▏                                                                                                                           | 4/401 [00:00<00:10, 39.56it/s, now=None]\u001b[A\n",
      "t:  12%|██████████████▋                                                                                                            | 48/401 [00:00<00:01, 263.22it/s, now=None]\u001b[A\n",
      "t:  24%|█████████████████████████████▏                                                                                             | 95/401 [00:00<00:00, 353.80it/s, now=None]\u001b[A\n",
      "t:  34%|█████████████████████████████████████████                                                                                 | 135/401 [00:00<00:00, 369.54it/s, now=None]\u001b[A\n",
      "t:  43%|████████████████████████████████████████████████████▋                                                                     | 173/401 [00:00<00:00, 371.92it/s, now=None]\u001b[A\n",
      "t:  55%|███████████████████████████████████████████████████████████████████▌                                                      | 222/401 [00:00<00:00, 408.84it/s, now=None]\u001b[A\n",
      "t:  67%|█████████████████████████████████████████████████████████████████████████████████▏                                        | 267/401 [00:00<00:00, 422.12it/s, now=None]\u001b[A\n",
      "t:  77%|██████████████████████████████████████████████████████████████████████████████████████████████▎                           | 310/401 [00:00<00:00, 372.84it/s, now=None]\u001b[A\n",
      "t:  89%|████████████████████████████████████████████████████████████████████████████████████████████████████████████▎             | 356/401 [00:00<00:00, 397.55it/s, now=None]\u001b[A\n",
      "t: 100%|█████████████████████████████████████████████████████████████████████████████████████████████████████████████████████████▋| 400/401 [00:01<00:00, 408.62it/s, now=None]\u001b[A\n",
      "                                                                                                                                                                               \u001b[A"
     ]
    },
    {
     "name": "stdout",
     "output_type": "stream",
     "text": [
      "Moviepy - Done !                                        \n",
      "Moviepy - video ready D:\\multi_agents_rl\\videos\\DRQN_LunarLander\\rl-video-episode-300.mp4\n",
      "Moviepy - Building video D:\\multi_agents_rl\\videos\\DRQN_LunarLander\\rl-video-episode-400.mp4.\n",
      "Moviepy - Writing video D:\\multi_agents_rl\\videos\\DRQN_LunarLander\\rl-video-episode-400.mp4\n",
      "\n",
      "Epoch 388: : 1it [00:00,  1.56it/s, loss=1.01, v_num=12]"
     ]
    },
    {
     "name": "stderr",
     "output_type": "stream",
     "text": [
      "\n",
      "t:   0%|                                                                                                                                       | 0/1 [00:00<?, ?it/s, now=None]\u001b[A\n",
      "                                                                                                                                                                               \u001b[A"
     ]
    },
    {
     "name": "stdout",
     "output_type": "stream",
     "text": [
      "Moviepy - Done !                                        \n",
      "Moviepy - video ready D:\\multi_agents_rl\\videos\\DRQN_LunarLander\\rl-video-episode-400.mp4\n",
      "Moviepy - Building video D:\\multi_agents_rl\\videos\\DRQN_LunarLander\\rl-video-episode-400.mp4.\n",
      "Moviepy - Writing video D:\\multi_agents_rl\\videos\\DRQN_LunarLander\\rl-video-episode-400.mp4\n",
      "\n",
      "Epoch 389: : 1it [00:01,  1.17s/it, loss=1.02, v_num=12]"
     ]
    },
    {
     "name": "stderr",
     "output_type": "stream",
     "text": [
      "\n",
      "t:   0%|                                                                                                                                     | 0/253 [00:00<?, ?it/s, now=None]\u001b[A\n",
      "t:  11%|█████████████▌                                                                                                             | 28/253 [00:00<00:00, 274.43it/s, now=None]\u001b[A\n",
      "t:  32%|██████████████████████████████████████▉                                                                                    | 80/253 [00:00<00:00, 415.27it/s, now=None]\u001b[A\n",
      "t:  57%|████████████████████████████████████████████████████████████████████▉                                                     | 143/253 [00:00<00:00, 510.33it/s, now=None]\u001b[A\n",
      "t:  85%|███████████████████████████████████████████████████████████████████████████████████████████████████████▏                  | 214/253 [00:00<00:00, 586.29it/s, now=None]\u001b[A\n",
      "                                                                                                                                                                               \u001b[A"
     ]
    },
    {
     "name": "stdout",
     "output_type": "stream",
     "text": [
      "Moviepy - Done !                                        \n",
      "Moviepy - video ready D:\\multi_agents_rl\\videos\\DRQN_LunarLander\\rl-video-episode-400.mp4\n",
      "Moviepy - Building video D:\\multi_agents_rl\\videos\\DRQN_LunarLander\\rl-video-episode-500.mp4.\n",
      "Moviepy - Writing video D:\\multi_agents_rl\\videos\\DRQN_LunarLander\\rl-video-episode-500.mp4\n",
      "\n",
      "Epoch 488: : 1it [00:00,  1.58it/s, loss=0.85, v_num=12]"
     ]
    },
    {
     "name": "stderr",
     "output_type": "stream",
     "text": [
      "\n",
      "t:   0%|                                                                                                                                       | 0/1 [00:00<?, ?it/s, now=None]\u001b[A\n",
      "                                                                                                                                                                               \u001b[A"
     ]
    },
    {
     "name": "stdout",
     "output_type": "stream",
     "text": [
      "Moviepy - Done !                                        \n",
      "Moviepy - video ready D:\\multi_agents_rl\\videos\\DRQN_LunarLander\\rl-video-episode-500.mp4\n",
      "Moviepy - Building video D:\\multi_agents_rl\\videos\\DRQN_LunarLander\\rl-video-episode-500.mp4.\n",
      "Moviepy - Writing video D:\\multi_agents_rl\\videos\\DRQN_LunarLander\\rl-video-episode-500.mp4\n",
      "\n",
      "Epoch 489: : 1it [00:01,  1.12s/it, loss=0.84, v_num=12]"
     ]
    },
    {
     "name": "stderr",
     "output_type": "stream",
     "text": [
      "\n",
      "t:   0%|                                                                                                                                     | 0/238 [00:00<?, ?it/s, now=None]\u001b[A\n",
      "t:  15%|██████████████████                                                                                                         | 35/238 [00:00<00:00, 346.55it/s, now=None]\u001b[A\n",
      "t:  41%|██████████████████████████████████████████████████▏                                                                        | 97/238 [00:00<00:00, 506.46it/s, now=None]\u001b[A\n",
      "t:  71%|██████████████████████████████████████████████████████████████████████████████████████▋                                   | 169/238 [00:00<00:00, 598.27it/s, now=None]\u001b[A\n",
      "t:  98%|███████████████████████████████████████████████████████████████████████████████████████████████████████████████████████▉  | 234/238 [00:00<00:00, 616.12it/s, now=None]\u001b[A\n",
      "                                                                                                                                                                               \u001b[A"
     ]
    },
    {
     "name": "stdout",
     "output_type": "stream",
     "text": [
      "Moviepy - Done !                                        \n",
      "Moviepy - video ready D:\\multi_agents_rl\\videos\\DRQN_LunarLander\\rl-video-episode-500.mp4\n",
      "Moviepy - Building video D:\\multi_agents_rl\\videos\\DRQN_LunarLander\\rl-video-episode-600.mp4.\n",
      "Moviepy - Writing video D:\\multi_agents_rl\\videos\\DRQN_LunarLander\\rl-video-episode-600.mp4\n",
      "\n",
      "Epoch 588: : 1it [00:00,  1.40it/s, loss=0.74, v_num=12]"
     ]
    },
    {
     "name": "stderr",
     "output_type": "stream",
     "text": [
      "\n",
      "t:   0%|                                                                                                                                       | 0/1 [00:00<?, ?it/s, now=None]\u001b[A\n",
      "                                                                                                                                                                               \u001b[A"
     ]
    },
    {
     "name": "stdout",
     "output_type": "stream",
     "text": [
      "Moviepy - Done !                                        \n",
      "Moviepy - video ready D:\\multi_agents_rl\\videos\\DRQN_LunarLander\\rl-video-episode-600.mp4\n",
      "Moviepy - Building video D:\\multi_agents_rl\\videos\\DRQN_LunarLander\\rl-video-episode-600.mp4.\n",
      "Moviepy - Writing video D:\\multi_agents_rl\\videos\\DRQN_LunarLander\\rl-video-episode-600.mp4\n",
      "\n",
      "Epoch 589: : 1it [00:03,  3.22s/it, loss=0.739, v_num=12]"
     ]
    },
    {
     "name": "stderr",
     "output_type": "stream",
     "text": [
      "\n",
      "t:   0%|                                                                                                                                     | 0/401 [00:00<?, ?it/s, now=None]\u001b[A\n",
      "t:   1%|█▊                                                                                                                           | 6/401 [00:00<00:06, 59.98it/s, now=None]\u001b[A\n",
      "t:  13%|███████████████▋                                                                                                           | 51/401 [00:00<00:01, 286.07it/s, now=None]\u001b[A\n",
      "t:  25%|██████████████████████████████▍                                                                                           | 100/401 [00:00<00:00, 378.60it/s, now=None]\u001b[A\n",
      "t:  40%|████████████████████████████████████████████████▋                                                                         | 160/401 [00:00<00:00, 460.24it/s, now=None]\u001b[A\n",
      "t:  53%|█████████████████████████████████████████████████████████████████                                                         | 214/401 [00:00<00:00, 488.72it/s, now=None]\u001b[A\n",
      "t:  67%|█████████████████████████████████████████████████████████████████████████████████▊                                        | 269/401 [00:00<00:00, 506.00it/s, now=None]\u001b[A\n",
      "t:  80%|█████████████████████████████████████████████████████████████████████████████████████████████████▎                        | 320/401 [00:00<00:00, 499.20it/s, now=None]\u001b[A\n",
      "t:  93%|████████████████████████████████████████████████████████████████████████████████████████████████████████████████▊         | 371/401 [00:00<00:00, 499.46it/s, now=None]\u001b[A\n",
      "                                                                                                                                                                               \u001b[A"
     ]
    },
    {
     "name": "stdout",
     "output_type": "stream",
     "text": [
      "Moviepy - Done !                                         \n",
      "Moviepy - video ready D:\\multi_agents_rl\\videos\\DRQN_LunarLander\\rl-video-episode-600.mp4\n",
      "Moviepy - Building video D:\\multi_agents_rl\\videos\\DRQN_LunarLander\\rl-video-episode-700.mp4.\n",
      "Moviepy - Writing video D:\\multi_agents_rl\\videos\\DRQN_LunarLander\\rl-video-episode-700.mp4\n",
      "\n",
      "Epoch 688: : 1it [00:00,  1.95it/s, loss=0.683, v_num=12]"
     ]
    },
    {
     "name": "stderr",
     "output_type": "stream",
     "text": [
      "\n",
      "t:   0%|                                                                                                                                       | 0/1 [00:00<?, ?it/s, now=None]\u001b[A\n",
      "                                                                                                                                                                               \u001b[A"
     ]
    },
    {
     "name": "stdout",
     "output_type": "stream",
     "text": [
      "Moviepy - Done !                                         \n",
      "Moviepy - video ready D:\\multi_agents_rl\\videos\\DRQN_LunarLander\\rl-video-episode-700.mp4\n",
      "Moviepy - Building video D:\\multi_agents_rl\\videos\\DRQN_LunarLander\\rl-video-episode-700.mp4.\n",
      "Moviepy - Writing video D:\\multi_agents_rl\\videos\\DRQN_LunarLander\\rl-video-episode-700.mp4\n",
      "\n",
      "Epoch 689: : 1it [00:01,  1.90s/it, loss=0.687, v_num=12]"
     ]
    },
    {
     "name": "stderr",
     "output_type": "stream",
     "text": [
      "\n",
      "t:   0%|                                                                                                                                     | 0/401 [00:00<?, ?it/s, now=None]\u001b[A\n",
      "t:   9%|███████████▎                                                                                                               | 37/401 [00:00<00:00, 367.53it/s, now=None]\u001b[A\n",
      "t:  25%|██████████████████████████████▎                                                                                            | 99/401 [00:00<00:00, 512.62it/s, now=None]\u001b[A\n",
      "t:  44%|█████████████████████████████████████████████████████▏                                                                    | 175/401 [00:00<00:00, 622.22it/s, now=None]\u001b[A\n",
      "t:  63%|████████████████████████████████████████████████████████████████████████████▋                                             | 252/401 [00:00<00:00, 680.15it/s, now=None]\u001b[A\n",
      "t:  80%|█████████████████████████████████████████████████████████████████████████████████████████████████▋                        | 321/401 [00:00<00:00, 674.08it/s, now=None]\u001b[A\n",
      "t: 100%|█████████████████████████████████████████████████████████████████████████████████████████████████████████████████████████▍| 399/401 [00:00<00:00, 709.67it/s, now=None]\u001b[A\n",
      "                                                                                                                                                                               \u001b[A"
     ]
    },
    {
     "name": "stdout",
     "output_type": "stream",
     "text": [
      "Moviepy - Done !                                         \n",
      "Moviepy - video ready D:\\multi_agents_rl\\videos\\DRQN_LunarLander\\rl-video-episode-700.mp4\n",
      "Moviepy - Building video D:\\multi_agents_rl\\videos\\DRQN_LunarLander\\rl-video-episode-800.mp4.\n",
      "Moviepy - Writing video D:\\multi_agents_rl\\videos\\DRQN_LunarLander\\rl-video-episode-800.mp4\n",
      "\n",
      "Epoch 788: : 1it [00:00,  1.84it/s, loss=0.59, v_num=12]"
     ]
    },
    {
     "name": "stderr",
     "output_type": "stream",
     "text": [
      "\n",
      "t:   0%|                                                                                                                                       | 0/1 [00:00<?, ?it/s, now=None]\u001b[A\n",
      "                                                                                                                                                                               \u001b[A"
     ]
    },
    {
     "name": "stdout",
     "output_type": "stream",
     "text": [
      "Moviepy - Done !                                        \n",
      "Moviepy - video ready D:\\multi_agents_rl\\videos\\DRQN_LunarLander\\rl-video-episode-800.mp4\n",
      "Moviepy - Building video D:\\multi_agents_rl\\videos\\DRQN_LunarLander\\rl-video-episode-800.mp4.\n",
      "Moviepy - Writing video D:\\multi_agents_rl\\videos\\DRQN_LunarLander\\rl-video-episode-800.mp4\n",
      "\n",
      "Epoch 789: : 1it [00:01,  1.92s/it, loss=0.592, v_num=12]"
     ]
    },
    {
     "name": "stderr",
     "output_type": "stream",
     "text": [
      "\n",
      "t:   0%|                                                                                                                                     | 0/401 [00:00<?, ?it/s, now=None]\u001b[A\n",
      "t:  10%|████████████▎                                                                                                              | 40/401 [00:00<00:00, 396.11it/s, now=None]\u001b[A\n",
      "t:  26%|████████████████████████████████▏                                                                                         | 106/401 [00:00<00:00, 547.61it/s, now=None]\u001b[A\n",
      "t:  46%|███████████████████████████████████████████████████████▋                                                                  | 183/401 [00:00<00:00, 648.61it/s, now=None]\u001b[A\n",
      "t:  66%|████████████████████████████████████████████████████████████████████████████████                                          | 263/401 [00:00<00:00, 705.42it/s, now=None]\u001b[A\n",
      "t:  84%|██████████████████████████████████████████████████████████████████████████████████████████████████████▊                   | 338/401 [00:00<00:00, 721.42it/s, now=None]\u001b[A\n",
      "                                                                                                                                                                               \u001b[A"
     ]
    },
    {
     "name": "stdout",
     "output_type": "stream",
     "text": [
      "Moviepy - Done !                                         \n",
      "Moviepy - video ready D:\\multi_agents_rl\\videos\\DRQN_LunarLander\\rl-video-episode-800.mp4\n",
      "Moviepy - Building video D:\\multi_agents_rl\\videos\\DRQN_LunarLander\\rl-video-episode-900.mp4.\n",
      "Moviepy - Writing video D:\\multi_agents_rl\\videos\\DRQN_LunarLander\\rl-video-episode-900.mp4\n",
      "\n",
      "Epoch 888: : 1it [00:00,  2.19it/s, loss=0.56, v_num=12]"
     ]
    },
    {
     "name": "stderr",
     "output_type": "stream",
     "text": [
      "\n",
      "t:   0%|                                                                                                                                       | 0/1 [00:00<?, ?it/s, now=None]\u001b[A\n",
      "                                                                                                                                                                               \u001b[A"
     ]
    },
    {
     "name": "stdout",
     "output_type": "stream",
     "text": [
      "Moviepy - Done !                                        \n",
      "Moviepy - video ready D:\\multi_agents_rl\\videos\\DRQN_LunarLander\\rl-video-episode-900.mp4\n",
      "Moviepy - Building video D:\\multi_agents_rl\\videos\\DRQN_LunarLander\\rl-video-episode-900.mp4.\n",
      "Moviepy - Writing video D:\\multi_agents_rl\\videos\\DRQN_LunarLander\\rl-video-episode-900.mp4\n",
      "\n",
      "Epoch 889: : 1it [00:01,  1.88s/it, loss=0.561, v_num=12]"
     ]
    },
    {
     "name": "stderr",
     "output_type": "stream",
     "text": [
      "\n",
      "t:   0%|                                                                                                                                     | 0/401 [00:00<?, ?it/s, now=None]\u001b[A\n",
      "t:  10%|███████████▉                                                                                                               | 39/401 [00:00<00:00, 386.41it/s, now=None]\u001b[A\n",
      "t:  26%|███████████████████████████████▉                                                                                          | 105/401 [00:00<00:00, 546.73it/s, now=None]\u001b[A\n",
      "t:  44%|█████████████████████████████████████████████████████▊                                                                    | 177/401 [00:00<00:00, 625.59it/s, now=None]\u001b[A\n",
      "t:  63%|████████████████████████████████████████████████████████████████████████████▎                                             | 251/401 [00:00<00:00, 670.46it/s, now=None]\u001b[A\n",
      "t:  81%|██████████████████████████████████████████████████████████████████████████████████████████████████▉                       | 325/401 [00:00<00:00, 693.07it/s, now=None]\u001b[A\n",
      "                                                                                                                                                                               \u001b[A"
     ]
    },
    {
     "name": "stdout",
     "output_type": "stream",
     "text": [
      "Moviepy - Done !                                         \n",
      "Moviepy - video ready D:\\multi_agents_rl\\videos\\DRQN_LunarLander\\rl-video-episode-900.mp4\n",
      "Moviepy - Building video D:\\multi_agents_rl\\videos\\DRQN_LunarLander\\rl-video-episode-1000.mp4.\n",
      "Moviepy - Writing video D:\\multi_agents_rl\\videos\\DRQN_LunarLander\\rl-video-episode-1000.mp4\n",
      "\n",
      "Epoch 988: : 1it [00:00,  1.86it/s, loss=0.68, v_num=12]"
     ]
    },
    {
     "name": "stderr",
     "output_type": "stream",
     "text": [
      "\n",
      "t:   0%|                                                                                                                                       | 0/1 [00:00<?, ?it/s, now=None]\u001b[A\n",
      "                                                                                                                                                                               \u001b[A"
     ]
    },
    {
     "name": "stdout",
     "output_type": "stream",
     "text": [
      "Moviepy - Done !                                        \n",
      "Moviepy - video ready D:\\multi_agents_rl\\videos\\DRQN_LunarLander\\rl-video-episode-1000.mp4\n",
      "Moviepy - Building video D:\\multi_agents_rl\\videos\\DRQN_LunarLander\\rl-video-episode-1000.mp4.\n",
      "Moviepy - Writing video D:\\multi_agents_rl\\videos\\DRQN_LunarLander\\rl-video-episode-1000.mp4\n",
      "\n",
      "Epoch 989: : 1it [00:01,  1.49s/it, loss=0.674, v_num=12]"
     ]
    },
    {
     "name": "stderr",
     "output_type": "stream",
     "text": [
      "\n",
      "t:   0%|                                                                                                                                     | 0/315 [00:00<?, ?it/s, now=None]\u001b[A\n",
      "t:  13%|████████████████                                                                                                           | 41/315 [00:00<00:00, 409.20it/s, now=None]\u001b[A\n",
      "t:  33%|████████████████████████████████████████▎                                                                                 | 104/315 [00:00<00:00, 535.83it/s, now=None]\u001b[A\n",
      "t:  57%|█████████████████████████████████████████████████████████████████████▎                                                    | 179/315 [00:00<00:00, 630.40it/s, now=None]\u001b[A\n",
      "t:  79%|████████████████████████████████████████████████████████████████████████████████████████████████▊                         | 250/315 [00:00<00:00, 661.67it/s, now=None]\u001b[A\n",
      "                                                                                                                                                                               \u001b[A"
     ]
    },
    {
     "name": "stdout",
     "output_type": "stream",
     "text": [
      "Moviepy - Done !                                         \n",
      "Moviepy - video ready D:\\multi_agents_rl\\videos\\DRQN_LunarLander\\rl-video-episode-1000.mp4\n",
      "Moviepy - Building video D:\\multi_agents_rl\\videos\\DRQN_LunarLander\\rl-video-episode-1100.mp4.\n",
      "Moviepy - Writing video D:\\multi_agents_rl\\videos\\DRQN_LunarLander\\rl-video-episode-1100.mp4\n",
      "\n",
      "Epoch 1088: : 1it [00:00,  1.72it/s, loss=0.68, v_num=12]"
     ]
    },
    {
     "name": "stderr",
     "output_type": "stream",
     "text": [
      "\n",
      "t:   0%|                                                                                                                                       | 0/1 [00:00<?, ?it/s, now=None]\u001b[A\n",
      "                                                                                                                                                                               \u001b[A"
     ]
    },
    {
     "name": "stdout",
     "output_type": "stream",
     "text": [
      "Moviepy - Done !                                         \n",
      "Moviepy - video ready D:\\multi_agents_rl\\videos\\DRQN_LunarLander\\rl-video-episode-1100.mp4\n",
      "Moviepy - Building video D:\\multi_agents_rl\\videos\\DRQN_LunarLander\\rl-video-episode-1100.mp4.\n",
      "Moviepy - Writing video D:\\multi_agents_rl\\videos\\DRQN_LunarLander\\rl-video-episode-1100.mp4\n",
      "\n",
      "Epoch 1089: : 1it [00:01,  1.80s/it, loss=0.681, v_num=12]"
     ]
    },
    {
     "name": "stderr",
     "output_type": "stream",
     "text": [
      "\n",
      "t:   0%|                                                                                                                                     | 0/401 [00:00<?, ?it/s, now=None]\u001b[A\n",
      "t:  10%|████████████▎                                                                                                              | 40/401 [00:00<00:00, 392.44it/s, now=None]\u001b[A\n",
      "t:  26%|████████████████████████████████▏                                                                                         | 106/401 [00:00<00:00, 545.41it/s, now=None]\u001b[A\n",
      "t:  46%|███████████████████████████████████████████████████████▉                                                                  | 184/401 [00:00<00:00, 645.87it/s, now=None]\u001b[A\n",
      "t:  64%|██████████████████████████████████████████████████████████████████████████████▍                                           | 258/401 [00:00<00:00, 680.01it/s, now=None]\u001b[A\n",
      "t:  82%|███████████████████████████████████████████████████████████████████████████████████████████████████▊                      | 328/401 [00:00<00:00, 687.15it/s, now=None]\u001b[A\n",
      "                                                                                                                                                                               \u001b[A"
     ]
    },
    {
     "name": "stdout",
     "output_type": "stream",
     "text": [
      "Moviepy - Done !                                          \n",
      "Moviepy - video ready D:\\multi_agents_rl\\videos\\DRQN_LunarLander\\rl-video-episode-1100.mp4\n",
      "Moviepy - Building video D:\\multi_agents_rl\\videos\\DRQN_LunarLander\\rl-video-episode-1200.mp4.\n",
      "Moviepy - Writing video D:\\multi_agents_rl\\videos\\DRQN_LunarLander\\rl-video-episode-1200.mp4\n",
      "\n",
      "Epoch 1188: : 1it [00:00,  2.46it/s, loss=0.677, v_num=12]"
     ]
    },
    {
     "name": "stderr",
     "output_type": "stream",
     "text": [
      "\n",
      "t:   0%|                                                                                                                                       | 0/1 [00:00<?, ?it/s, now=None]\u001b[A\n",
      "                                                                                                                                                                               \u001b[A"
     ]
    },
    {
     "name": "stdout",
     "output_type": "stream",
     "text": [
      "Moviepy - Done !                                          \n",
      "Moviepy - video ready D:\\multi_agents_rl\\videos\\DRQN_LunarLander\\rl-video-episode-1200.mp4\n",
      "Moviepy - Building video D:\\multi_agents_rl\\videos\\DRQN_LunarLander\\rl-video-episode-1200.mp4.\n",
      "Moviepy - Writing video D:\\multi_agents_rl\\videos\\DRQN_LunarLander\\rl-video-episode-1200.mp4\n",
      "\n",
      "Epoch 1189: : 1it [00:01,  1.89s/it, loss=0.697, v_num=12]"
     ]
    },
    {
     "name": "stderr",
     "output_type": "stream",
     "text": [
      "\n",
      "t:   0%|                                                                                                                                     | 0/401 [00:00<?, ?it/s, now=None]\u001b[A\n",
      "t:   9%|███████████                                                                                                                | 36/401 [00:00<00:01, 359.79it/s, now=None]\u001b[A\n",
      "t:  25%|██████████████████████████████▋                                                                                           | 101/401 [00:00<00:00, 524.40it/s, now=None]\u001b[A\n",
      "t:  44%|██████████████████████████████████████████████████████▏                                                                   | 178/401 [00:00<00:00, 635.83it/s, now=None]\u001b[A\n",
      "t:  63%|█████████████████████████████████████████████████████████████████████████████▎                                            | 254/401 [00:00<00:00, 681.98it/s, now=None]\u001b[A\n",
      "t:  81%|██████████████████████████████████████████████████████████████████████████████████████████████████▎                       | 323/401 [00:00<00:00, 684.85it/s, now=None]\u001b[A\n",
      "t: 100%|██████████████████████████████████████████████████████████████████████████████████████████████████████████████████████████| 401/401 [00:00<00:00, 712.27it/s, now=None]\u001b[A\n",
      "                                                                                                                                                                               \u001b[A"
     ]
    },
    {
     "name": "stdout",
     "output_type": "stream",
     "text": [
      "Moviepy - Done !                                          \n",
      "Moviepy - video ready D:\\multi_agents_rl\\videos\\DRQN_LunarLander\\rl-video-episode-1200.mp4\n",
      "Moviepy - Building video D:\\multi_agents_rl\\videos\\DRQN_LunarLander\\rl-video-episode-1300.mp4.\n",
      "Moviepy - Writing video D:\\multi_agents_rl\\videos\\DRQN_LunarLander\\rl-video-episode-1300.mp4\n",
      "\n",
      "Epoch 1288: : 1it [00:00,  4.10it/s, loss=0.763, v_num=12]"
     ]
    },
    {
     "name": "stderr",
     "output_type": "stream",
     "text": [
      "\n",
      "t:   0%|                                                                                                                                       | 0/1 [00:00<?, ?it/s, now=None]\u001b[A\n",
      "                                                                                                                                                                               \u001b[A"
     ]
    },
    {
     "name": "stdout",
     "output_type": "stream",
     "text": [
      "Moviepy - Done !                                          \n",
      "Moviepy - video ready D:\\multi_agents_rl\\videos\\DRQN_LunarLander\\rl-video-episode-1300.mp4\n",
      "Moviepy - Building video D:\\multi_agents_rl\\videos\\DRQN_LunarLander\\rl-video-episode-1300.mp4.\n",
      "Moviepy - Writing video D:\\multi_agents_rl\\videos\\DRQN_LunarLander\\rl-video-episode-1300.mp4\n",
      "\n",
      "Epoch 1289: : 1it [00:01,  1.76s/it, loss=0.783, v_num=12]"
     ]
    },
    {
     "name": "stderr",
     "output_type": "stream",
     "text": [
      "\n",
      "t:   0%|                                                                                                                                     | 0/316 [00:00<?, ?it/s, now=None]\u001b[A\n",
      "t:  13%|███████████████▉                                                                                                           | 41/316 [00:00<00:00, 407.46it/s, now=None]\u001b[A\n",
      "t:  33%|████████████████████████████████████████▌                                                                                 | 105/316 [00:00<00:00, 543.75it/s, now=None]\u001b[A\n",
      "t:  56%|████████████████████████████████████████████████████████████████████▋                                                     | 178/316 [00:00<00:00, 625.90it/s, now=None]\u001b[A\n",
      "t:  77%|██████████████████████████████████████████████████████████████████████████████████████████████▏                           | 244/316 [00:00<00:00, 636.81it/s, now=None]\u001b[A\n",
      "t: 100%|██████████████████████████████████████████████████████████████████████████████████████████████████████████████████████████| 316/316 [00:00<00:00, 664.29it/s, now=None]\u001b[A\n",
      "                                                                                                                                                                               \u001b[A"
     ]
    },
    {
     "name": "stdout",
     "output_type": "stream",
     "text": [
      "Moviepy - Done !                                          \n",
      "Moviepy - video ready D:\\multi_agents_rl\\videos\\DRQN_LunarLander\\rl-video-episode-1300.mp4\n",
      "Moviepy - Building video D:\\multi_agents_rl\\videos\\DRQN_LunarLander\\rl-video-episode-1400.mp4.\n",
      "Moviepy - Writing video D:\\multi_agents_rl\\videos\\DRQN_LunarLander\\rl-video-episode-1400.mp4\n",
      "\n",
      "Epoch 1388: : 1it [00:00,  1.49it/s, loss=0.985, v_num=12]"
     ]
    },
    {
     "name": "stderr",
     "output_type": "stream",
     "text": [
      "\n",
      "t:   0%|                                                                                                                                       | 0/1 [00:00<?, ?it/s, now=None]\u001b[A\n",
      "                                                                                                                                                                               \u001b[A"
     ]
    },
    {
     "name": "stdout",
     "output_type": "stream",
     "text": [
      "Moviepy - Done !                                          \n",
      "Moviepy - video ready D:\\multi_agents_rl\\videos\\DRQN_LunarLander\\rl-video-episode-1400.mp4\n",
      "Moviepy - Building video D:\\multi_agents_rl\\videos\\DRQN_LunarLander\\rl-video-episode-1400.mp4.\n",
      "Moviepy - Writing video D:\\multi_agents_rl\\videos\\DRQN_LunarLander\\rl-video-episode-1400.mp4\n",
      "\n",
      "Epoch 1389: : 1it [00:02,  2.34s/it, loss=1.01, v_num=12]"
     ]
    },
    {
     "name": "stderr",
     "output_type": "stream",
     "text": [
      "\n",
      "t:   0%|                                                                                                                                     | 0/291 [00:00<?, ?it/s, now=None]\u001b[A\n",
      "t:   2%|███                                                                                                                          | 7/291 [00:00<00:04, 68.63it/s, now=None]\u001b[A\n",
      "t:  18%|██████████████████████▍                                                                                                    | 53/291 [00:00<00:00, 293.55it/s, now=None]\u001b[A\n",
      "t:  35%|██████████████████████████████████████████▎                                                                               | 101/291 [00:00<00:00, 377.69it/s, now=None]\u001b[A\n",
      "t:  52%|██████████████████████████████████████████████████████████████▉                                                           | 150/291 [00:00<00:00, 420.09it/s, now=None]\u001b[A\n",
      "t:  70%|█████████████████████████████████████████████████████████████████████████████████████▉                                    | 205/291 [00:00<00:00, 464.95it/s, now=None]\u001b[A\n",
      "t:  89%|████████████████████████████████████████████████████████████████████████████████████████████████████████████▏             | 258/291 [00:00<00:00, 486.91it/s, now=None]\u001b[A\n",
      "                                                                                                                                                                               \u001b[A"
     ]
    },
    {
     "name": "stdout",
     "output_type": "stream",
     "text": [
      "Moviepy - Done !                                         \n",
      "Moviepy - video ready D:\\multi_agents_rl\\videos\\DRQN_LunarLander\\rl-video-episode-1400.mp4\n",
      "Epoch 1482: : 1it [00:00,  1.80it/s, loss=1.01, v_num=12] \n"
     ]
    }
   ],
   "source": [
    "algo = DeepQLearning('LunarLander-v2')\n",
    "\n",
    "checkpoint_callback = ModelCheckpoint(dirpath=\"./checkpoints/DRQN-LunarLander\", save_top_k=1,mode=\"max\", monitor=\"episode/Return\")\n",
    "\n",
    "trainer = Trainer(\n",
    "     accelerator='gpu',\n",
    "     devices=num_gpus,\n",
    "     max_epochs=10_000,\n",
    "     callbacks=[checkpoint_callback,EarlyStopping(monitor='episode/Return', mode='max', patience=500)]\n",
    ")\n",
    "\n",
    "trainer.fit(algo)"
   ]
  },
  {
   "cell_type": "code",
   "execution_count": 21,
   "id": "3f4a607e",
   "metadata": {},
   "outputs": [
    {
     "name": "stdout",
     "output_type": "stream",
     "text": [
      "0\n",
      "1\n",
      "2\n",
      "3\n",
      "4\n",
      "5\n",
      "6\n",
      "7\n",
      "8\n",
      "9\n",
      "10\n",
      "11\n",
      "12\n",
      "13\n",
      "14\n",
      "15\n",
      "16\n",
      "17\n",
      "Moviepy - Building video D:\\multi_agents_rl\\videos\\DRQN_LunarLander\\rl-video-episode-2000.mp4.\n",
      "Moviepy - Writing video D:\\multi_agents_rl\\videos\\DRQN_LunarLander\\rl-video-episode-2000.mp4\n",
      "\n"
     ]
    },
    {
     "name": "stderr",
     "output_type": "stream",
     "text": [
      "                                                                                                                                                                               "
     ]
    },
    {
     "name": "stdout",
     "output_type": "stream",
     "text": [
      "Moviepy - Done !\n",
      "Moviepy - video ready D:\\multi_agents_rl\\videos\\DRQN_LunarLander\\rl-video-episode-2000.mp4\n",
      "18\n"
     ]
    },
    {
     "name": "stderr",
     "output_type": "stream",
     "text": [
      "\r"
     ]
    },
    {
     "name": "stdout",
     "output_type": "stream",
     "text": [
      "Moviepy - Building video D:\\multi_agents_rl\\videos\\DRQN_LunarLander\\rl-video-episode-2000.mp4.\n",
      "Moviepy - Writing video D:\\multi_agents_rl\\videos\\DRQN_LunarLander\\rl-video-episode-2000.mp4\n",
      "\n"
     ]
    },
    {
     "name": "stderr",
     "output_type": "stream",
     "text": [
      "                                                                                                                                                                               \r"
     ]
    },
    {
     "name": "stdout",
     "output_type": "stream",
     "text": [
      "Moviepy - Done !\n",
      "Moviepy - video ready D:\\multi_agents_rl\\videos\\DRQN_LunarLander\\rl-video-episode-2000.mp4\n",
      "19\n",
      "20\n",
      "21\n",
      "22\n",
      "23\n",
      "24\n",
      "25\n",
      "26\n",
      "27\n",
      "28\n",
      "29\n",
      "30\n",
      "31\n",
      "32\n",
      "33\n",
      "34\n",
      "35\n",
      "36\n",
      "37\n",
      "38\n",
      "39\n",
      "40\n",
      "41\n",
      "42\n",
      "43\n",
      "44\n",
      "45\n",
      "46\n",
      "47\n",
      "48\n",
      "49\n",
      "50\n",
      "51\n",
      "52\n",
      "53\n",
      "54\n",
      "55\n",
      "56\n",
      "57\n",
      "58\n",
      "59\n",
      "60\n",
      "61\n",
      "62\n",
      "63\n",
      "64\n",
      "65\n",
      "66\n",
      "67\n",
      "68\n",
      "69\n",
      "70\n",
      "71\n",
      "72\n",
      "73\n",
      "74\n",
      "75\n",
      "76\n",
      "77\n",
      "78\n",
      "79\n",
      "80\n",
      "81\n",
      "82\n",
      "83\n",
      "84\n",
      "85\n",
      "86\n",
      "87\n",
      "88\n",
      "89\n",
      "90\n",
      "91\n",
      "92\n",
      "93\n",
      "94\n",
      "95\n",
      "96\n",
      "97\n",
      "98\n",
      "99\n"
     ]
    },
    {
     "ename": "KeyboardInterrupt",
     "evalue": "",
     "output_type": "error",
     "traceback": [
      "\u001b[1;31m---------------------------------------------------------------------------\u001b[0m",
      "\u001b[1;31mKeyboardInterrupt\u001b[0m                         Traceback (most recent call last)",
      "Cell \u001b[1;32mIn [21], line 6\u001b[0m\n\u001b[0;32m      4\u001b[0m \u001b[38;5;28;01mfor\u001b[39;00m i \u001b[38;5;129;01min\u001b[39;00m \u001b[38;5;28mrange\u001b[39m(\u001b[38;5;241m100\u001b[39m):\n\u001b[0;32m      5\u001b[0m     \u001b[38;5;28mprint\u001b[39m(i)\n\u001b[1;32m----> 6\u001b[0m     \u001b[43malgo\u001b[49m\u001b[38;5;241;43m.\u001b[39;49m\u001b[43mplay_episode\u001b[49m\u001b[43m(\u001b[49m\u001b[43mpolicy\u001b[49m\u001b[38;5;241;43m=\u001b[39;49m\u001b[43malgo\u001b[49m\u001b[38;5;241;43m.\u001b[39;49m\u001b[43mpolicy\u001b[49m\u001b[43m,\u001b[49m\u001b[43m \u001b[49m\u001b[43mepsilon\u001b[49m\u001b[38;5;241;43m=\u001b[39;49m\u001b[38;5;241;43m0\u001b[39;49m\u001b[43m)\u001b[49m\n",
      "File \u001b[1;32mD:\\multi_agents_rl\\env\\lib\\site-packages\\torch\\autograd\\grad_mode.py:27\u001b[0m, in \u001b[0;36m_DecoratorContextManager.__call__.<locals>.decorate_context\u001b[1;34m(*args, **kwargs)\u001b[0m\n\u001b[0;32m     24\u001b[0m \u001b[38;5;129m@functools\u001b[39m\u001b[38;5;241m.\u001b[39mwraps(func)\n\u001b[0;32m     25\u001b[0m \u001b[38;5;28;01mdef\u001b[39;00m \u001b[38;5;21mdecorate_context\u001b[39m(\u001b[38;5;241m*\u001b[39margs, \u001b[38;5;241m*\u001b[39m\u001b[38;5;241m*\u001b[39mkwargs):\n\u001b[0;32m     26\u001b[0m     \u001b[38;5;28;01mwith\u001b[39;00m \u001b[38;5;28mself\u001b[39m\u001b[38;5;241m.\u001b[39mclone():\n\u001b[1;32m---> 27\u001b[0m         \u001b[38;5;28;01mreturn\u001b[39;00m func(\u001b[38;5;241m*\u001b[39margs, \u001b[38;5;241m*\u001b[39m\u001b[38;5;241m*\u001b[39mkwargs)\n",
      "Cell \u001b[1;32mIn [15], line 35\u001b[0m, in \u001b[0;36mDeepQLearning.play_episode\u001b[1;34m(self, policy, epsilon)\u001b[0m\n\u001b[0;32m     33\u001b[0m \u001b[38;5;28;01mwhile\u001b[39;00m \u001b[38;5;129;01mnot\u001b[39;00m done:\n\u001b[0;32m     34\u001b[0m     \u001b[38;5;28;01mif\u001b[39;00m policy:\n\u001b[1;32m---> 35\u001b[0m         action, hidden \u001b[38;5;241m=\u001b[39m \u001b[43mpolicy\u001b[49m\u001b[43m(\u001b[49m\u001b[43mstate\u001b[49m\u001b[38;5;241;43m.\u001b[39;49m\u001b[43munsqueeze\u001b[49m\u001b[43m(\u001b[49m\u001b[43mdim\u001b[49m\u001b[38;5;241;43m=\u001b[39;49m\u001b[38;5;241;43m0\u001b[39;49m\u001b[43m)\u001b[49m\u001b[43m,\u001b[49m\u001b[43m \u001b[49m\u001b[38;5;28;43mself\u001b[39;49m\u001b[38;5;241;43m.\u001b[39;49m\u001b[43menv\u001b[49m\u001b[43m,\u001b[49m\u001b[43m \u001b[49m\u001b[38;5;28;43mself\u001b[39;49m\u001b[38;5;241;43m.\u001b[39;49m\u001b[43mq_net\u001b[49m\u001b[43m,\u001b[49m\u001b[43m \u001b[49m\u001b[43mhidden\u001b[49m\u001b[43m,\u001b[49m\u001b[43m \u001b[49m\u001b[43mepsilon\u001b[49m\u001b[38;5;241;43m=\u001b[39;49m\u001b[43mepsilon\u001b[49m\u001b[43m)\u001b[49m\n\u001b[0;32m     36\u001b[0m     \u001b[38;5;28;01melse\u001b[39;00m:\n\u001b[0;32m     37\u001b[0m         action \u001b[38;5;241m=\u001b[39m \u001b[38;5;28mself\u001b[39m\u001b[38;5;241m.\u001b[39menv\u001b[38;5;241m.\u001b[39maction_space\u001b[38;5;241m.\u001b[39msample()\n",
      "Cell \u001b[1;32mIn [11], line 6\u001b[0m, in \u001b[0;36mepsilon_greedy\u001b[1;34m(state, env, net, hidden, epsilon)\u001b[0m\n\u001b[0;32m      4\u001b[0m \u001b[38;5;28;01melse\u001b[39;00m:\n\u001b[0;32m      5\u001b[0m     state \u001b[38;5;241m=\u001b[39m state\u001b[38;5;241m.\u001b[39mto(device)\n\u001b[1;32m----> 6\u001b[0m     q_values, hidden \u001b[38;5;241m=\u001b[39m \u001b[43mnet\u001b[49m\u001b[43m(\u001b[49m\u001b[43mstate\u001b[49m\u001b[43m,\u001b[49m\u001b[43m \u001b[49m\u001b[43mhidden\u001b[49m\u001b[43m)\u001b[49m\n\u001b[0;32m      7\u001b[0m     _, action \u001b[38;5;241m=\u001b[39m torch\u001b[38;5;241m.\u001b[39mmax(q_values, dim\u001b[38;5;241m=\u001b[39m\u001b[38;5;241m1\u001b[39m)\n\u001b[0;32m      8\u001b[0m     action \u001b[38;5;241m=\u001b[39m \u001b[38;5;28mint\u001b[39m(action\u001b[38;5;241m.\u001b[39mitem())\n",
      "File \u001b[1;32mD:\\multi_agents_rl\\env\\lib\\site-packages\\torch\\nn\\modules\\module.py:1130\u001b[0m, in \u001b[0;36mModule._call_impl\u001b[1;34m(self, *input, **kwargs)\u001b[0m\n\u001b[0;32m   1126\u001b[0m \u001b[38;5;66;03m# If we don't have any hooks, we want to skip the rest of the logic in\u001b[39;00m\n\u001b[0;32m   1127\u001b[0m \u001b[38;5;66;03m# this function, and just call forward.\u001b[39;00m\n\u001b[0;32m   1128\u001b[0m \u001b[38;5;28;01mif\u001b[39;00m \u001b[38;5;129;01mnot\u001b[39;00m (\u001b[38;5;28mself\u001b[39m\u001b[38;5;241m.\u001b[39m_backward_hooks \u001b[38;5;129;01mor\u001b[39;00m \u001b[38;5;28mself\u001b[39m\u001b[38;5;241m.\u001b[39m_forward_hooks \u001b[38;5;129;01mor\u001b[39;00m \u001b[38;5;28mself\u001b[39m\u001b[38;5;241m.\u001b[39m_forward_pre_hooks \u001b[38;5;129;01mor\u001b[39;00m _global_backward_hooks\n\u001b[0;32m   1129\u001b[0m         \u001b[38;5;129;01mor\u001b[39;00m _global_forward_hooks \u001b[38;5;129;01mor\u001b[39;00m _global_forward_pre_hooks):\n\u001b[1;32m-> 1130\u001b[0m     \u001b[38;5;28;01mreturn\u001b[39;00m forward_call(\u001b[38;5;241m*\u001b[39m\u001b[38;5;28minput\u001b[39m, \u001b[38;5;241m*\u001b[39m\u001b[38;5;241m*\u001b[39mkwargs)\n\u001b[0;32m   1131\u001b[0m \u001b[38;5;66;03m# Do not call functions when jit is used\u001b[39;00m\n\u001b[0;32m   1132\u001b[0m full_backward_hooks, non_full_backward_hooks \u001b[38;5;241m=\u001b[39m [], []\n",
      "Cell \u001b[1;32mIn [10], line 25\u001b[0m, in \u001b[0;36mDRQN.forward\u001b[1;34m(self, x, prev_state)\u001b[0m\n\u001b[0;32m     23\u001b[0m     ct \u001b[38;5;241m=\u001b[39m torch\u001b[38;5;241m.\u001b[39mzeros(x\u001b[38;5;241m.\u001b[39mshape[\u001b[38;5;241m0\u001b[39m], \u001b[38;5;241m256\u001b[39m)\u001b[38;5;241m.\u001b[39mto(device)\n\u001b[0;32m     24\u001b[0m     hs, ct \u001b[38;5;241m=\u001b[39m \u001b[38;5;28mself\u001b[39m\u001b[38;5;241m.\u001b[39mlstm(o, (hs,ct))    \n\u001b[1;32m---> 25\u001b[0m q_values \u001b[38;5;241m=\u001b[39m \u001b[38;5;28;43mself\u001b[39;49m\u001b[38;5;241;43m.\u001b[39;49m\u001b[43mlinear\u001b[49m\u001b[43m(\u001b[49m\u001b[43mhs\u001b[49m\u001b[43m)\u001b[49m\n\u001b[0;32m     26\u001b[0m \u001b[38;5;28;01mreturn\u001b[39;00m q_values, (hs, ct)\n",
      "File \u001b[1;32mD:\\multi_agents_rl\\env\\lib\\site-packages\\torch\\nn\\modules\\module.py:1130\u001b[0m, in \u001b[0;36mModule._call_impl\u001b[1;34m(self, *input, **kwargs)\u001b[0m\n\u001b[0;32m   1126\u001b[0m \u001b[38;5;66;03m# If we don't have any hooks, we want to skip the rest of the logic in\u001b[39;00m\n\u001b[0;32m   1127\u001b[0m \u001b[38;5;66;03m# this function, and just call forward.\u001b[39;00m\n\u001b[0;32m   1128\u001b[0m \u001b[38;5;28;01mif\u001b[39;00m \u001b[38;5;129;01mnot\u001b[39;00m (\u001b[38;5;28mself\u001b[39m\u001b[38;5;241m.\u001b[39m_backward_hooks \u001b[38;5;129;01mor\u001b[39;00m \u001b[38;5;28mself\u001b[39m\u001b[38;5;241m.\u001b[39m_forward_hooks \u001b[38;5;129;01mor\u001b[39;00m \u001b[38;5;28mself\u001b[39m\u001b[38;5;241m.\u001b[39m_forward_pre_hooks \u001b[38;5;129;01mor\u001b[39;00m _global_backward_hooks\n\u001b[0;32m   1129\u001b[0m         \u001b[38;5;129;01mor\u001b[39;00m _global_forward_hooks \u001b[38;5;129;01mor\u001b[39;00m _global_forward_pre_hooks):\n\u001b[1;32m-> 1130\u001b[0m     \u001b[38;5;28;01mreturn\u001b[39;00m forward_call(\u001b[38;5;241m*\u001b[39m\u001b[38;5;28minput\u001b[39m, \u001b[38;5;241m*\u001b[39m\u001b[38;5;241m*\u001b[39mkwargs)\n\u001b[0;32m   1131\u001b[0m \u001b[38;5;66;03m# Do not call functions when jit is used\u001b[39;00m\n\u001b[0;32m   1132\u001b[0m full_backward_hooks, non_full_backward_hooks \u001b[38;5;241m=\u001b[39m [], []\n",
      "File \u001b[1;32mD:\\multi_agents_rl\\env\\lib\\site-packages\\torch\\nn\\modules\\linear.py:114\u001b[0m, in \u001b[0;36mLinear.forward\u001b[1;34m(self, input)\u001b[0m\n\u001b[0;32m    113\u001b[0m \u001b[38;5;28;01mdef\u001b[39;00m \u001b[38;5;21mforward\u001b[39m(\u001b[38;5;28mself\u001b[39m, \u001b[38;5;28minput\u001b[39m: Tensor) \u001b[38;5;241m-\u001b[39m\u001b[38;5;241m>\u001b[39m Tensor:\n\u001b[1;32m--> 114\u001b[0m     \u001b[38;5;28;01mreturn\u001b[39;00m \u001b[43mF\u001b[49m\u001b[38;5;241;43m.\u001b[39;49m\u001b[43mlinear\u001b[49m\u001b[43m(\u001b[49m\u001b[38;5;28;43minput\u001b[39;49m\u001b[43m,\u001b[49m\u001b[43m \u001b[49m\u001b[38;5;28;43mself\u001b[39;49m\u001b[38;5;241;43m.\u001b[39;49m\u001b[43mweight\u001b[49m\u001b[43m,\u001b[49m\u001b[43m \u001b[49m\u001b[38;5;28;43mself\u001b[39;49m\u001b[38;5;241;43m.\u001b[39;49m\u001b[43mbias\u001b[49m\u001b[43m)\u001b[49m\n",
      "\u001b[1;31mKeyboardInterrupt\u001b[0m: "
     ]
    }
   ],
   "source": [
    "policy = algo.policy\n",
    "algo.q_net = algo.q_net.to(device)\n",
    "\n",
    "for i in range(100):\n",
    "    print(i)\n",
    "    algo.play_episode(policy=algo.policy, epsilon=0)"
   ]
  },
  {
   "cell_type": "code",
   "execution_count": null,
   "id": "9c63bbfd",
   "metadata": {},
   "outputs": [],
   "source": []
  }
 ],
 "metadata": {
  "kernelspec": {
   "display_name": "Python 3 (ipykernel)",
   "language": "python",
   "name": "python3"
  },
  "language_info": {
   "codemirror_mode": {
    "name": "ipython",
    "version": 3
   },
   "file_extension": ".py",
   "mimetype": "text/x-python",
   "name": "python",
   "nbconvert_exporter": "python",
   "pygments_lexer": "ipython3",
   "version": "3.10.7"
  }
 },
 "nbformat": 4,
 "nbformat_minor": 5
}
