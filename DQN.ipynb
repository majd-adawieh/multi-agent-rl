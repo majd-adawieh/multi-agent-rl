{
 "cells": [
  {
   "cell_type": "code",
   "execution_count": 1,
   "id": "618897fb",
   "metadata": {},
   "outputs": [
    {
     "name": "stderr",
     "output_type": "stream",
     "text": [
      "D:\\multi_agents_rl\\env\\lib\\site-packages\\tqdm\\auto.py:22: TqdmWarning: IProgress not found. Please update jupyter and ipywidgets. See https://ipywidgets.readthedocs.io/en/stable/user_install.html\n",
      "  from .autonotebook import tqdm as notebook_tqdm\n"
     ]
    }
   ],
   "source": [
    "import gym\n",
    "import random\n",
    "import copy\n",
    "import numpy as np\n",
    "from collections import deque\n",
    "from base64 import b64encode\n",
    "\n",
    "import torch\n",
    "import torch.nn as nn\n",
    "import torch.nn.functional as F\n",
    "from torch.optim import AdamW\n",
    "from torch.utils.data import DataLoader, IterableDataset\n",
    "\n",
    "from pytorch_lightning import LightningModule, Trainer\n",
    "from pytorch_lightning.callbacks import EarlyStopping, ModelCheckpoint\n",
    "\n",
    "from gym.wrappers import RecordVideo, RecordEpisodeStatistics, TimeLimit\n",
    "\n",
    "\n",
    "device = 'cuda:0' if torch.cuda.is_available() else 'cpu'\n",
    "num_gpus = torch.cuda.device_count()"
   ]
  },
  {
   "cell_type": "code",
   "execution_count": 2,
   "id": "45cb7faf",
   "metadata": {},
   "outputs": [],
   "source": [
    "class DQN(nn.Module):\n",
    "    def __init__(self, hidden_size, obs_size, n_actions):\n",
    "        super().__init__()\n",
    "        self.net = nn.Sequential(\n",
    "            nn.Linear(obs_size, hidden_size),\n",
    "            nn.ReLU(),\n",
    "            nn.Linear(hidden_size, hidden_size),\n",
    "            nn.ReLU(),\n",
    "            nn.Linear(hidden_size, n_actions)     \n",
    "        )\n",
    "    \n",
    "    def forward(self, x):\n",
    "        return self.net(x.float())\n"
   ]
  },
  {
   "cell_type": "code",
   "execution_count": 3,
   "id": "d91fbd1c",
   "metadata": {},
   "outputs": [],
   "source": [
    "def epsilon_greedy(state, env, net, epsilon=0.0):\n",
    "    if np.random.random() < epsilon:\n",
    "        action = env.action_space.sample()\n",
    "    else:\n",
    "        state = torch.tensor([state]).to(device)\n",
    "        q_values = net(state)\n",
    "        _, action = torch.max(q_values, dim=1)\n",
    "        action = int(action.item())\n",
    "    return action"
   ]
  },
  {
   "cell_type": "code",
   "execution_count": 4,
   "id": "9ec9d5eb",
   "metadata": {},
   "outputs": [],
   "source": [
    "class ReplayBuffer:\n",
    "    def __init__(self, capacity):\n",
    "        self.buffer = deque(maxlen=capacity)\n",
    "        \n",
    "    def __len__(self):\n",
    "        return len(self.buffer)\n",
    "    \n",
    "    def append(self, experience):\n",
    "        self.buffer.append(experience)\n",
    "        \n",
    "    def sample(self, batch_size):\n",
    "        return random.sample(self.buffer, batch_size)"
   ]
  },
  {
   "cell_type": "code",
   "execution_count": 5,
   "id": "51c92245",
   "metadata": {},
   "outputs": [],
   "source": [
    "class RLDataset(IterableDataset):\n",
    "    def __init__(self, buffer, sample_size=400):\n",
    "        self.buffer = buffer\n",
    "        self.sample_size = sample_size\n",
    "    \n",
    "    def __iter__(self):\n",
    "        for experience in self.buffer.sample(self.sample_size):\n",
    "            yield experience"
   ]
  },
  {
   "cell_type": "code",
   "execution_count": 6,
   "id": "1bb78db0",
   "metadata": {},
   "outputs": [],
   "source": [
    "def create_environment(name):\n",
    "    env = gym.make(name, render_mode=\"rgb_array\")\n",
    "    env = TimeLimit(env, max_episode_steps=400)\n",
    "    env = RecordVideo(env, video_folder='./videos', episode_trigger=lambda x: x % 50 == 0)\n",
    "    env = RecordEpisodeStatistics(env)\n",
    "    return env"
   ]
  },
  {
   "cell_type": "code",
   "execution_count": 7,
   "id": "1040f865",
   "metadata": {},
   "outputs": [],
   "source": [
    "class DeepQLearning(LightningModule):\n",
    "    def __init__(self, env_name, policy=epsilon_greedy, capacity=100_000, \n",
    "               batch_size=256, lr=1e-3, hidden_size=128, gamma=0.99, \n",
    "               loss_fn=F.smooth_l1_loss, optim=AdamW, eps_start=1.0, eps_end=0.15, \n",
    "               eps_last_episode=100, samples_per_epoch=1_000, sync_rate=10):\n",
    "    \n",
    "        super().__init__()\n",
    "        self.env = create_environment(env_name)\n",
    "\n",
    "        obs_size = self.env.observation_space.shape[0]\n",
    "        n_actions = self.env.action_space.n\n",
    "\n",
    "        self.q_net = DQN(hidden_size, obs_size, n_actions)\n",
    "\n",
    "        self.target_q_net = copy.deepcopy(self.q_net)\n",
    "\n",
    "        self.policy = policy\n",
    "        self.buffer = ReplayBuffer(capacity=capacity)\n",
    "        self.save_hyperparameters()\n",
    "\n",
    "        while len(self.buffer) < self.hparams.samples_per_epoch:\n",
    "            print(f\"{len(self.buffer)} samples in experience buffer. Filling...\")\n",
    "            self.play_episode(epsilon=self.hparams.eps_start)\n",
    "            \n",
    "    @torch.no_grad()\n",
    "    def play_episode(self, policy=None, epsilon=0.):\n",
    "        state = self.env.reset()\n",
    "        state = state[0]\n",
    "        done = False\n",
    "        while not done:\n",
    "            if policy:\n",
    "                action = policy(state, self.env, self.q_net, epsilon=epsilon)\n",
    "            else:\n",
    "                action = self.env.action_space.sample()\n",
    "            \n",
    "            next_state, reward, done, tru , _ = self.env.step(action)\n",
    "            if tru:\n",
    "                done = tru\n",
    "            exp = (state, action, reward, done, next_state)\n",
    "            self.buffer.append(exp)\n",
    "            state = next_state\n",
    "            \n",
    "        self.env.close()\n",
    "        \n",
    "        \n",
    "    @torch.no_grad()\n",
    "    def play_test_episode(self):\n",
    "        self.q_net.to(device)\n",
    "        state = self.env.reset()\n",
    "        state = state[0]\n",
    "        done = False\n",
    "        while not done:\n",
    "            action = self.policy(state, self.env, self.q_net, epsilon=0)\n",
    "            next_state, reward, done, tru , _ = self.env.step(action)\n",
    "            if tru:\n",
    "                done = tru\n",
    "            state = next_state\n",
    "        self.env.close()\n",
    "\n",
    "    def forward(self, x):\n",
    "        return self.q_net(x)\n",
    "\n",
    "    \n",
    "    def configure_optimizers(self):\n",
    "        q_net_optimizer = self.hparams.optim(self.q_net.parameters(), lr=self.hparams.lr)\n",
    "        return [q_net_optimizer]\n",
    "\n",
    "     # Create dataloader.\n",
    "    def train_dataloader(self):\n",
    "        dataset = RLDataset(self.buffer, self.hparams.samples_per_epoch)\n",
    "        dataloader = DataLoader(\n",
    "            dataset=dataset,\n",
    "            batch_size=self.hparams.batch_size\n",
    "        )\n",
    "        return dataloader\n",
    "    \n",
    "    def training_step(self, batch, batch_idx):\n",
    "        states, actions, rewards, dones, next_states = batch\n",
    "        actions = actions.unsqueeze(1)\n",
    "        rewards = rewards.unsqueeze(1)\n",
    "        dones = dones.unsqueeze(1)\n",
    "        \n",
    "        state_action_values = self.q_net(states).gather(1, actions)\n",
    "\n",
    "        next_action_values, _ = self.target_q_net(next_states).max(dim=1, keepdim=True)\n",
    "        next_action_values[dones] = 0.0\n",
    "\n",
    "        expected_state_action_values = rewards + self.hparams.gamma * next_action_values\n",
    "\n",
    "        loss = self.hparams.loss_fn(state_action_values, expected_state_action_values)\n",
    "        self.log('episode/Q-Error', loss)\n",
    "        return loss\n",
    "    \n",
    "    # Training epoch end.\n",
    "    def training_epoch_end(self, training_step_outputs):\n",
    "        epsilon = max(\n",
    "            self.hparams.eps_end,\n",
    "            self.hparams.eps_start - self.current_epoch / self.hparams.eps_last_episode\n",
    "        )\n",
    "\n",
    "        self.play_episode(policy=self.policy, epsilon=epsilon)\n",
    "        self.log('episode/Return', self.env.return_queue[-1])\n",
    "\n",
    "        if self.current_epoch % self.hparams.sync_rate == 0:\n",
    "            self.target_q_net.load_state_dict(self.q_net.state_dict())\n",
    "            \n",
    "    def save_model(self):\n",
    "        torch.save(self.q_net.state_dict(), \"./model\")\n",
    "        \n",
    "    def load_model(self):\n",
    "        self.q_net.load_state_dict(torch.load( \"./model\"))\n"
   ]
  },
  {
   "cell_type": "code",
   "execution_count": 8,
   "id": "6a5d649b",
   "metadata": {},
   "outputs": [
    {
     "name": "stderr",
     "output_type": "stream",
     "text": [
      "D:\\multi_agents_rl\\env\\lib\\site-packages\\gym\\wrappers\\record_video.py:75: UserWarning: \u001b[33mWARN: Overwriting existing videos at D:\\multi_agents_rl\\videos folder (try specifying a different `video_folder` for the `RecordVideo` wrapper if this is not desired)\u001b[0m\n",
      "  logger.warn(\n"
     ]
    },
    {
     "name": "stdout",
     "output_type": "stream",
     "text": [
      "0 samples in experience buffer. Filling...\n",
      "Moviepy - Building video D:\\multi_agents_rl\\videos\\rl-video-episode-0.mp4.\n",
      "Moviepy - Writing video D:\\multi_agents_rl\\videos\\rl-video-episode-0.mp4\n",
      "\n"
     ]
    },
    {
     "name": "stderr",
     "output_type": "stream",
     "text": [
      "GPU available: True (cuda), used: True                                                                                                                                         \n",
      "TPU available: False, using: 0 TPU cores\n",
      "IPU available: False, using: 0 IPUs\n",
      "HPU available: False, using: 0 HPUs\n",
      "D:\\multi_agents_rl\\env\\lib\\site-packages\\pytorch_lightning\\callbacks\\model_checkpoint.py:616: UserWarning: Checkpoint directory D:\\multi_agents_rl\\checkpoints exists and is not empty.\n",
      "  rank_zero_warn(f\"Checkpoint directory {dirpath} exists and is not empty.\")\n"
     ]
    },
    {
     "name": "stdout",
     "output_type": "stream",
     "text": [
      "Moviepy - Done !\n",
      "Moviepy - video ready D:\\multi_agents_rl\\videos\\rl-video-episode-0.mp4\n",
      "91 samples in experience buffer. Filling...\n",
      "198 samples in experience buffer. Filling...\n",
      "275 samples in experience buffer. Filling...\n",
      "366 samples in experience buffer. Filling...\n",
      "465 samples in experience buffer. Filling...\n",
      "568 samples in experience buffer. Filling...\n",
      "664 samples in experience buffer. Filling...\n",
      "722 samples in experience buffer. Filling...\n",
      "840 samples in experience buffer. Filling...\n",
      "906 samples in experience buffer. Filling...\n"
     ]
    },
    {
     "name": "stderr",
     "output_type": "stream",
     "text": [
      "LOCAL_RANK: 0 - CUDA_VISIBLE_DEVICES: [0]\n",
      "\n",
      "  | Name         | Type | Params\n",
      "--------------------------------------\n",
      "0 | q_net        | DQN  | 18.2 K\n",
      "1 | target_q_net | DQN  | 18.2 K\n",
      "--------------------------------------\n",
      "36.4 K    Trainable params\n",
      "0         Non-trainable params\n",
      "36.4 K    Total params\n",
      "0.145     Total estimated model params size (MB)\n",
      "D:\\multi_agents_rl\\env\\lib\\site-packages\\pytorch_lightning\\trainer\\connectors\\data_connector.py:236: PossibleUserWarning: The dataloader, train_dataloader, does not have many workers which may be a bottleneck. Consider increasing the value of the `num_workers` argument` (try 8 which is the number of cpus on this machine) in the `DataLoader` init to improve performance.\n",
      "  rank_zero_warn(\n"
     ]
    },
    {
     "name": "stdout",
     "output_type": "stream",
     "text": [
      "Epoch 4: : 2it [00:00, 100.01it/s, loss=2.42, v_num=11]"
     ]
    },
    {
     "name": "stderr",
     "output_type": "stream",
     "text": [
      "C:\\Users\\majda\\AppData\\Local\\Temp\\ipykernel_10732\\446939352.py:5: UserWarning: Creating a tensor from a list of numpy.ndarrays is extremely slow. Please consider converting the list to a single numpy.ndarray with numpy.array() before converting to a tensor. (Triggered internally at  ..\\torch\\csrc\\utils\\tensor_new.cpp:204.)\n",
      "  state = torch.tensor([state]).to(device)\n"
     ]
    },
    {
     "name": "stdout",
     "output_type": "stream",
     "text": [
      "Moviepy - Building video D:\\multi_agents_rl\\videos\\rl-video-episode-50.mp4.\n",
      "Moviepy - Writing video D:\\multi_agents_rl\\videos\\rl-video-episode-50.mp4\n",
      "\n",
      "Epoch 38: : 4it [00:00, 30.30it/s, loss=1.66, v_num=11]"
     ]
    },
    {
     "name": "stderr",
     "output_type": "stream",
     "text": [
      "\n",
      "t:   0%|                                                                                                                                       | 0/1 [00:00<?, ?it/s, now=None]\u001b[A\n",
      "                                                                                                                                                                               \u001b[A"
     ]
    },
    {
     "name": "stdout",
     "output_type": "stream",
     "text": [
      "Moviepy - Done !                                       \n",
      "Moviepy - video ready D:\\multi_agents_rl\\videos\\rl-video-episode-50.mp4\n",
      "Moviepy - Building video D:\\multi_agents_rl\\videos\\rl-video-episode-50.mp4.\n",
      "Moviepy - Writing video D:\\multi_agents_rl\\videos\\rl-video-episode-50.mp4\n",
      "\n",
      "Epoch 39: : 4it [00:00,  4.32it/s, loss=1.57, v_num=11]"
     ]
    },
    {
     "name": "stderr",
     "output_type": "stream",
     "text": [
      "\n",
      "t:   0%|                                                                                                                                     | 0/174 [00:00<?, ?it/s, now=None]\u001b[A\n",
      "t:  19%|███████████████████████▎                                                                                                   | 33/174 [00:00<00:00, 326.63it/s, now=None]\u001b[A\n",
      "t:  53%|█████████████████████████████████████████████████████████████████                                                          | 92/174 [00:00<00:00, 479.64it/s, now=None]\u001b[A\n",
      "t:  90%|██████████████████████████████████████████████████████████████████████████████████████████████████████████████            | 157/174 [00:00<00:00, 554.63it/s, now=None]\u001b[A\n",
      "                                                                                                                                                                               \u001b[A"
     ]
    },
    {
     "name": "stdout",
     "output_type": "stream",
     "text": [
      "Moviepy - Done !                                       \n",
      "Moviepy - video ready D:\\multi_agents_rl\\videos\\rl-video-episode-50.mp4\n",
      "Moviepy - Building video D:\\multi_agents_rl\\videos\\rl-video-episode-100.mp4.\n",
      "Moviepy - Writing video D:\\multi_agents_rl\\videos\\rl-video-episode-100.mp4\n",
      "\n",
      "Epoch 88: : 4it [00:00,  7.43it/s, loss=1.12, v_num=11]"
     ]
    },
    {
     "name": "stderr",
     "output_type": "stream",
     "text": [
      "\n",
      "t:   0%|                                                                                                                                       | 0/1 [00:00<?, ?it/s, now=None]\u001b[A\n",
      "                                                                                                                                                                               \u001b[A"
     ]
    },
    {
     "name": "stdout",
     "output_type": "stream",
     "text": [
      "Moviepy - Done !                                       \n",
      "Moviepy - video ready D:\\multi_agents_rl\\videos\\rl-video-episode-100.mp4\n",
      "Moviepy - Building video D:\\multi_agents_rl\\videos\\rl-video-episode-100.mp4.\n",
      "Moviepy - Writing video D:\\multi_agents_rl\\videos\\rl-video-episode-100.mp4\n",
      "\n",
      "Epoch 89: : 4it [00:02,  1.92it/s, loss=1.13, v_num=11]"
     ]
    },
    {
     "name": "stderr",
     "output_type": "stream",
     "text": [
      "\n",
      "t:   0%|                                                                                                                                     | 0/401 [00:00<?, ?it/s, now=None]\u001b[A\n",
      "t:   5%|██████▍                                                                                                                    | 21/401 [00:00<00:01, 209.73it/s, now=None]\u001b[A\n",
      "t:  21%|█████████████████████████▍                                                                                                 | 83/401 [00:00<00:00, 450.94it/s, now=None]\u001b[A\n",
      "t:  39%|███████████████████████████████████████████████▏                                                                          | 155/401 [00:00<00:00, 573.76it/s, now=None]\u001b[A\n",
      "t:  57%|█████████████████████████████████████████████████████████████████████▋                                                    | 229/401 [00:00<00:00, 636.87it/s, now=None]\u001b[A\n",
      "t:  76%|█████████████████████████████████████████████████████████████████████████████████████████████                             | 306/401 [00:00<00:00, 684.75it/s, now=None]\u001b[A\n",
      "t:  94%|██████████████████████████████████████████████████████████████████████████████████████████████████████████████████▋       | 377/401 [00:00<00:00, 693.32it/s, now=None]\u001b[A\n",
      "                                                                                                                                                                               \u001b[A"
     ]
    },
    {
     "name": "stdout",
     "output_type": "stream",
     "text": [
      "Moviepy - Done !                                       \n",
      "Moviepy - video ready D:\\multi_agents_rl\\videos\\rl-video-episode-100.mp4\n",
      "Moviepy - Building video D:\\multi_agents_rl\\videos\\rl-video-episode-150.mp4.\n",
      "Moviepy - Writing video D:\\multi_agents_rl\\videos\\rl-video-episode-150.mp4\n",
      "\n",
      "Epoch 138: : 4it [00:00,  9.30it/s, loss=0.911, v_num=11]"
     ]
    },
    {
     "name": "stderr",
     "output_type": "stream",
     "text": [
      "\n",
      "t:   0%|                                                                                                                                       | 0/1 [00:00<?, ?it/s, now=None]\u001b[A\n",
      "                                                                                                                                                                               \u001b[A"
     ]
    },
    {
     "name": "stdout",
     "output_type": "stream",
     "text": [
      "Moviepy - Done !                                         \n",
      "Moviepy - video ready D:\\multi_agents_rl\\videos\\rl-video-episode-150.mp4\n",
      "Moviepy - Building video D:\\multi_agents_rl\\videos\\rl-video-episode-150.mp4.\n",
      "Moviepy - Writing video D:\\multi_agents_rl\\videos\\rl-video-episode-150.mp4\n",
      "\n",
      "Epoch 139: : 4it [00:01,  2.14it/s, loss=0.894, v_num=11]"
     ]
    },
    {
     "name": "stderr",
     "output_type": "stream",
     "text": [
      "\n",
      "t:   0%|                                                                                                                                     | 0/401 [00:00<?, ?it/s, now=None]\u001b[A\n",
      "t:   6%|███████▉                                                                                                                   | 26/401 [00:00<00:01, 257.43it/s, now=None]\u001b[A\n",
      "t:  22%|██████████████████████████▉                                                                                                | 88/401 [00:00<00:00, 469.83it/s, now=None]\u001b[A\n",
      "t:  39%|███████████████████████████████████████████████▍                                                                          | 156/401 [00:00<00:00, 565.58it/s, now=None]\u001b[A\n",
      "t:  57%|█████████████████████████████████████████████████████████████████████                                                     | 227/401 [00:00<00:00, 619.97it/s, now=None]\u001b[A\n",
      "t:  74%|█████████████████████████████████████████████████████████████████████████████████████████▊                                | 295/401 [00:00<00:00, 639.34it/s, now=None]\u001b[A\n",
      "t:  90%|█████████████████████████████████████████████████████████████████████████████████████████████████████████████▏            | 359/401 [00:00<00:00, 635.26it/s, now=None]\u001b[A\n",
      "                                                                                                                                                                               \u001b[A"
     ]
    },
    {
     "name": "stdout",
     "output_type": "stream",
     "text": [
      "Moviepy - Done !                                         \n",
      "Moviepy - video ready D:\\multi_agents_rl\\videos\\rl-video-episode-150.mp4\n",
      "Moviepy - Building video D:\\multi_agents_rl\\videos\\rl-video-episode-200.mp4.\n",
      "Moviepy - Writing video D:\\multi_agents_rl\\videos\\rl-video-episode-200.mp4\n",
      "\n",
      "Epoch 188: : 4it [00:00,  8.54it/s, loss=0.715, v_num=11]"
     ]
    },
    {
     "name": "stderr",
     "output_type": "stream",
     "text": [
      "\n",
      "t:   0%|                                                                                                                                       | 0/1 [00:00<?, ?it/s, now=None]\u001b[A\n",
      "                                                                                                                                                                               \u001b[A"
     ]
    },
    {
     "name": "stdout",
     "output_type": "stream",
     "text": [
      "Moviepy - Done !                                         \n",
      "Moviepy - video ready D:\\multi_agents_rl\\videos\\rl-video-episode-200.mp4\n",
      "Moviepy - Building video D:\\multi_agents_rl\\videos\\rl-video-episode-200.mp4.\n",
      "Moviepy - Writing video D:\\multi_agents_rl\\videos\\rl-video-episode-200.mp4\n",
      "\n",
      "Epoch 189: : 4it [00:01,  2.24it/s, loss=0.772, v_num=11]"
     ]
    },
    {
     "name": "stderr",
     "output_type": "stream",
     "text": [
      "\n",
      "t:   0%|                                                                                                                                     | 0/401 [00:00<?, ?it/s, now=None]\u001b[A\n",
      "t:  10%|███████████▉                                                                                                               | 39/401 [00:00<00:00, 389.44it/s, now=None]\u001b[A\n",
      "t:  26%|████████████████████████████████▏                                                                                         | 106/401 [00:00<00:00, 551.13it/s, now=None]\u001b[A\n",
      "t:  45%|███████████████████████████████████████████████████████▎                                                                  | 182/401 [00:00<00:00, 643.24it/s, now=None]\u001b[A\n",
      "t:  64%|██████████████████████████████████████████████████████████████████████████████▏                                           | 257/401 [00:00<00:00, 682.51it/s, now=None]\u001b[A\n",
      "t:  82%|████████████████████████████████████████████████████████████████████████████████████████████████████▍                     | 330/401 [00:00<00:00, 697.04it/s, now=None]\u001b[A\n",
      "                                                                                                                                                                               \u001b[A"
     ]
    },
    {
     "name": "stdout",
     "output_type": "stream",
     "text": [
      "Moviepy - Done !                                         \n",
      "Moviepy - video ready D:\\multi_agents_rl\\videos\\rl-video-episode-200.mp4\n",
      "Moviepy - Building video D:\\multi_agents_rl\\videos\\rl-video-episode-250.mp4.\n",
      "Moviepy - Writing video D:\\multi_agents_rl\\videos\\rl-video-episode-250.mp4\n",
      "\n",
      "Epoch 238: : 4it [00:00,  8.68it/s, loss=0.739, v_num=11]"
     ]
    },
    {
     "name": "stderr",
     "output_type": "stream",
     "text": [
      "\n",
      "t:   0%|                                                                                                                                       | 0/1 [00:00<?, ?it/s, now=None]\u001b[A\n",
      "                                                                                                                                                                               \u001b[A"
     ]
    },
    {
     "name": "stdout",
     "output_type": "stream",
     "text": [
      "Moviepy - Done !                                         \n",
      "Moviepy - video ready D:\\multi_agents_rl\\videos\\rl-video-episode-250.mp4\n",
      "Moviepy - Building video D:\\multi_agents_rl\\videos\\rl-video-episode-250.mp4.\n",
      "Moviepy - Writing video D:\\multi_agents_rl\\videos\\rl-video-episode-250.mp4\n",
      "\n",
      "Epoch 239: : 4it [00:01,  2.05it/s, loss=0.777, v_num=11]"
     ]
    },
    {
     "name": "stderr",
     "output_type": "stream",
     "text": [
      "\n",
      "t:   0%|                                                                                                                                     | 0/401 [00:00<?, ?it/s, now=None]\u001b[A\n",
      "t:   9%|███████████▎                                                                                                               | 37/401 [00:00<00:00, 368.11it/s, now=None]\u001b[A\n",
      "t:  25%|██████████████████████████████▍                                                                                           | 100/401 [00:00<00:00, 515.88it/s, now=None]\u001b[A\n",
      "t:  42%|███████████████████████████████████████████████████▍                                                                      | 169/401 [00:00<00:00, 592.12it/s, now=None]\u001b[A\n",
      "t:  60%|█████████████████████████████████████████████████████████████████████████▋                                                | 242/401 [00:00<00:00, 646.16it/s, now=None]\u001b[A\n",
      "t:  78%|██████████████████████████████████████████████████████████████████████████████████████████████▌                           | 311/401 [00:00<00:00, 661.89it/s, now=None]\u001b[A\n",
      "t:  96%|█████████████████████████████████████████████████████████████████████████████████████████████████████████████████████▏    | 385/401 [00:00<00:00, 686.05it/s, now=None]\u001b[A\n",
      "                                                                                                                                                                               \u001b[A"
     ]
    },
    {
     "name": "stdout",
     "output_type": "stream",
     "text": [
      "Moviepy - Done !                                         \n",
      "Moviepy - video ready D:\\multi_agents_rl\\videos\\rl-video-episode-250.mp4\n",
      "Moviepy - Building video D:\\multi_agents_rl\\videos\\rl-video-episode-300.mp4.\n",
      "Moviepy - Writing video D:\\multi_agents_rl\\videos\\rl-video-episode-300.mp4\n",
      "\n",
      "Epoch 288: : 4it [00:00,  8.86it/s, loss=0.771, v_num=11]"
     ]
    },
    {
     "name": "stderr",
     "output_type": "stream",
     "text": [
      "\n",
      "t:   0%|                                                                                                                                       | 0/1 [00:00<?, ?it/s, now=None]\u001b[A\n",
      "                                                                                                                                                                               \u001b[A"
     ]
    },
    {
     "name": "stdout",
     "output_type": "stream",
     "text": [
      "Moviepy - Done !                                         \n",
      "Moviepy - video ready D:\\multi_agents_rl\\videos\\rl-video-episode-300.mp4\n",
      "Moviepy - Building video D:\\multi_agents_rl\\videos\\rl-video-episode-300.mp4.\n",
      "Moviepy - Writing video D:\\multi_agents_rl\\videos\\rl-video-episode-300.mp4\n",
      "\n",
      "Epoch 289: : 4it [00:01,  2.11it/s, loss=0.766, v_num=11]"
     ]
    },
    {
     "name": "stderr",
     "output_type": "stream",
     "text": [
      "\n",
      "t:   0%|                                                                                                                                     | 0/401 [00:00<?, ?it/s, now=None]\u001b[A\n",
      "t:   9%|██████████▋                                                                                                                | 35/401 [00:00<00:01, 346.55it/s, now=None]\u001b[A\n",
      "t:  25%|██████████████████████████████▎                                                                                            | 99/401 [00:00<00:00, 518.46it/s, now=None]\u001b[A\n",
      "t:  42%|██████████████████████████████████████████████████▊                                                                       | 167/401 [00:00<00:00, 592.05it/s, now=None]\u001b[A\n",
      "t:  57%|█████████████████████████████████████████████████████████████████████                                                     | 227/401 [00:00<00:00, 589.33it/s, now=None]\u001b[A\n",
      "t:  71%|███████████████████████████████████████████████████████████████████████████████████████                                   | 286/401 [00:00<00:00, 565.28it/s, now=None]\u001b[A\n",
      "t:  86%|████████████████████████████████████████████████████████████████████████████████████████████████████████▎                 | 343/401 [00:00<00:00, 545.31it/s, now=None]\u001b[A\n",
      "                                                                                                                                                                               \u001b[A"
     ]
    },
    {
     "name": "stdout",
     "output_type": "stream",
     "text": [
      "Moviepy - Done !                                         \n",
      "Moviepy - video ready D:\\multi_agents_rl\\videos\\rl-video-episode-300.mp4\n",
      "Moviepy - Building video D:\\multi_agents_rl\\videos\\rl-video-episode-350.mp4.\n",
      "Moviepy - Writing video D:\\multi_agents_rl\\videos\\rl-video-episode-350.mp4\n",
      "\n",
      "Epoch 338: : 4it [00:00,  9.63it/s, loss=0.478, v_num=11]"
     ]
    },
    {
     "name": "stderr",
     "output_type": "stream",
     "text": [
      "\n",
      "t:   0%|                                                                                                                                       | 0/1 [00:00<?, ?it/s, now=None]\u001b[A\n",
      "                                                                                                                                                                               \u001b[A"
     ]
    },
    {
     "name": "stdout",
     "output_type": "stream",
     "text": [
      "Moviepy - Done !                                         \n",
      "Moviepy - video ready D:\\multi_agents_rl\\videos\\rl-video-episode-350.mp4\n",
      "Moviepy - Building video D:\\multi_agents_rl\\videos\\rl-video-episode-350.mp4.\n",
      "Moviepy - Writing video D:\\multi_agents_rl\\videos\\rl-video-episode-350.mp4\n",
      "\n",
      "Epoch 339: : 4it [00:01,  2.22it/s, loss=0.476, v_num=11]"
     ]
    },
    {
     "name": "stderr",
     "output_type": "stream",
     "text": [
      "\n",
      "t:   0%|                                                                                                                                     | 0/401 [00:00<?, ?it/s, now=None]\u001b[A\n",
      "t:   9%|███████████                                                                                                                | 36/401 [00:00<00:01, 358.27it/s, now=None]\u001b[A\n",
      "t:  25%|███████████████████████████████                                                                                           | 102/401 [00:00<00:00, 532.38it/s, now=None]\u001b[A\n",
      "t:  43%|████████████████████████████████████████████████████▋                                                                     | 173/401 [00:00<00:00, 610.37it/s, now=None]\u001b[A\n",
      "t:  61%|██████████████████████████████████████████████████████████████████████████▌                                               | 245/401 [00:00<00:00, 653.42it/s, now=None]\u001b[A\n",
      "t:  80%|█████████████████████████████████████████████████████████████████████████████████████████████████▎                        | 320/401 [00:00<00:00, 685.68it/s, now=None]\u001b[A\n",
      "t:  99%|████████████████████████████████████████████████████████████████████████████████████████████████████████████████████████▊ | 397/401 [00:00<00:00, 709.42it/s, now=None]\u001b[A\n",
      "                                                                                                                                                                               \u001b[A"
     ]
    },
    {
     "name": "stdout",
     "output_type": "stream",
     "text": [
      "Moviepy - Done !                                         \n",
      "Moviepy - video ready D:\\multi_agents_rl\\videos\\rl-video-episode-350.mp4\n",
      "Moviepy - Building video D:\\multi_agents_rl\\videos\\rl-video-episode-400.mp4.\n",
      "Moviepy - Writing video D:\\multi_agents_rl\\videos\\rl-video-episode-400.mp4\n",
      "\n",
      "Epoch 388: : 4it [00:00, 10.78it/s, loss=0.435, v_num=11]"
     ]
    },
    {
     "name": "stderr",
     "output_type": "stream",
     "text": [
      "\n",
      "t:   0%|                                                                                                                                       | 0/1 [00:00<?, ?it/s, now=None]\u001b[A\n",
      "                                                                                                                                                                               \u001b[A"
     ]
    },
    {
     "name": "stdout",
     "output_type": "stream",
     "text": [
      "Moviepy - Done !                                         \n",
      "Moviepy - video ready D:\\multi_agents_rl\\videos\\rl-video-episode-400.mp4\n",
      "Moviepy - Building video D:\\multi_agents_rl\\videos\\rl-video-episode-400.mp4.\n",
      "Moviepy - Writing video D:\\multi_agents_rl\\videos\\rl-video-episode-400.mp4\n",
      "\n",
      "Epoch 389: : 4it [00:01,  2.10it/s, loss=0.44, v_num=11]"
     ]
    },
    {
     "name": "stderr",
     "output_type": "stream",
     "text": [
      "\n",
      "t:   0%|                                                                                                                                     | 0/401 [00:00<?, ?it/s, now=None]\u001b[A\n",
      "t:   8%|██████████▍                                                                                                                | 34/401 [00:00<00:01, 334.83it/s, now=None]\u001b[A\n",
      "t:  24%|██████████████████████████████                                                                                             | 98/401 [00:00<00:00, 510.33it/s, now=None]\u001b[A\n",
      "t:  41%|██████████████████████████████████████████████████▌                                                                       | 166/401 [00:00<00:00, 583.95it/s, now=None]\u001b[A\n",
      "t:  56%|████████████████████████████████████████████████████████████████████▊                                                     | 226/401 [00:00<00:00, 587.95it/s, now=None]\u001b[A\n",
      "t:  74%|██████████████████████████████████████████████████████████████████████████████████████████                                | 296/401 [00:00<00:00, 623.61it/s, now=None]\u001b[A\n",
      "t:  92%|████████████████████████████████████████████████████████████████████████████████████████████████████████████████▎         | 369/401 [00:00<00:00, 657.22it/s, now=None]\u001b[A\n",
      "                                                                                                                                                                               \u001b[A"
     ]
    },
    {
     "name": "stdout",
     "output_type": "stream",
     "text": [
      "Moviepy - Done !                                        \n",
      "Moviepy - video ready D:\\multi_agents_rl\\videos\\rl-video-episode-400.mp4\n",
      "Moviepy - Building video D:\\multi_agents_rl\\videos\\rl-video-episode-450.mp4.\n",
      "Moviepy - Writing video D:\\multi_agents_rl\\videos\\rl-video-episode-450.mp4\n",
      "\n",
      "Epoch 438: : 4it [00:00,  8.41it/s, loss=0.429, v_num=11]"
     ]
    },
    {
     "name": "stderr",
     "output_type": "stream",
     "text": [
      "\n",
      "t:   0%|                                                                                                                                       | 0/1 [00:00<?, ?it/s, now=None]\u001b[A\n",
      "                                                                                                                                                                               \u001b[A"
     ]
    },
    {
     "name": "stdout",
     "output_type": "stream",
     "text": [
      "Moviepy - Done !                                         \n",
      "Moviepy - video ready D:\\multi_agents_rl\\videos\\rl-video-episode-450.mp4\n",
      "Moviepy - Building video D:\\multi_agents_rl\\videos\\rl-video-episode-450.mp4.\n",
      "Moviepy - Writing video D:\\multi_agents_rl\\videos\\rl-video-episode-450.mp4\n",
      "\n",
      "Epoch 439: : 4it [00:01,  2.32it/s, loss=0.435, v_num=11]"
     ]
    },
    {
     "name": "stderr",
     "output_type": "stream",
     "text": [
      "\n",
      "t:   0%|                                                                                                                                     | 0/401 [00:00<?, ?it/s, now=None]\u001b[A\n",
      "t:  10%|███████████▉                                                                                                               | 39/401 [00:00<00:00, 389.87it/s, now=None]\u001b[A\n",
      "t:  26%|███████████████████████████████▋                                                                                          | 104/401 [00:00<00:00, 539.80it/s, now=None]\u001b[A\n",
      "t:  44%|█████████████████████████████████████████████████████▏                                                                    | 175/401 [00:00<00:00, 617.26it/s, now=None]\u001b[A\n",
      "t:  59%|████████████████████████████████████████████████████████████████████████                                                  | 237/401 [00:00<00:00, 615.92it/s, now=None]\u001b[A\n",
      "t:  76%|████████████████████████████████████████████████████████████████████████████████████████████▊                             | 305/401 [00:00<00:00, 636.66it/s, now=None]\u001b[A\n",
      "t:  93%|█████████████████████████████████████████████████████████████████████████████████████████████████████████████████▍        | 373/401 [00:00<00:00, 651.32it/s, now=None]\u001b[A\n",
      "                                                                                                                                                                               \u001b[A"
     ]
    },
    {
     "name": "stdout",
     "output_type": "stream",
     "text": [
      "Moviepy - Done !                                         \n",
      "Moviepy - video ready D:\\multi_agents_rl\\videos\\rl-video-episode-450.mp4\n",
      "Moviepy - Building video D:\\multi_agents_rl\\videos\\rl-video-episode-500.mp4.\n",
      "Moviepy - Writing video D:\\multi_agents_rl\\videos\\rl-video-episode-500.mp4\n",
      "\n",
      "Epoch 488: : 4it [00:00,  9.52it/s, loss=0.428, v_num=11]"
     ]
    },
    {
     "name": "stderr",
     "output_type": "stream",
     "text": [
      "\n",
      "t:   0%|                                                                                                                                       | 0/1 [00:00<?, ?it/s, now=None]\u001b[A\n",
      "                                                                                                                                                                               \u001b[A"
     ]
    },
    {
     "name": "stdout",
     "output_type": "stream",
     "text": [
      "Moviepy - Done !                                         \n",
      "Moviepy - video ready D:\\multi_agents_rl\\videos\\rl-video-episode-500.mp4\n",
      "Moviepy - Building video D:\\multi_agents_rl\\videos\\rl-video-episode-500.mp4.\n",
      "Moviepy - Writing video D:\\multi_agents_rl\\videos\\rl-video-episode-500.mp4\n",
      "\n",
      "Epoch 489: : 4it [00:02,  1.99it/s, loss=0.408, v_num=11]"
     ]
    },
    {
     "name": "stderr",
     "output_type": "stream",
     "text": [
      "\n",
      "t:   0%|                                                                                                                                     | 0/401 [00:00<?, ?it/s, now=None]\u001b[A\n",
      "t:   9%|███████████▎                                                                                                               | 37/401 [00:00<00:00, 368.79it/s, now=None]\u001b[A\n",
      "t:  23%|████████████████████████████▌                                                                                              | 93/401 [00:00<00:00, 481.10it/s, now=None]\u001b[A\n",
      "t:  41%|██████████████████████████████████████████████████▏                                                                       | 165/401 [00:00<00:00, 587.43it/s, now=None]\u001b[A\n",
      "t:  59%|████████████████████████████████████████████████████████████████████████▍                                                 | 238/401 [00:00<00:00, 641.02it/s, now=None]\u001b[A\n",
      "t:  76%|█████████████████████████████████████████████████████████████████████████████████████████████                             | 306/401 [00:00<00:00, 655.01it/s, now=None]\u001b[A\n",
      "t:  97%|█████████████████████████████████████████████████████████████████████████████████████████████████████████████████████▋    | 387/401 [00:00<00:00, 705.16it/s, now=None]\u001b[A\n",
      "                                                                                                                                                                               \u001b[A"
     ]
    },
    {
     "name": "stdout",
     "output_type": "stream",
     "text": [
      "Moviepy - Done !                                         \n",
      "Moviepy - video ready D:\\multi_agents_rl\\videos\\rl-video-episode-500.mp4\n",
      "Moviepy - Building video D:\\multi_agents_rl\\videos\\rl-video-episode-550.mp4.\n",
      "Moviepy - Writing video D:\\multi_agents_rl\\videos\\rl-video-episode-550.mp4\n",
      "\n",
      "Epoch 538: : 4it [00:00,  6.70it/s, loss=0.378, v_num=11]"
     ]
    },
    {
     "name": "stderr",
     "output_type": "stream",
     "text": [
      "\n",
      "t:   0%|                                                                                                                                       | 0/1 [00:00<?, ?it/s, now=None]\u001b[A\n",
      "                                                                                                                                                                               \u001b[A"
     ]
    },
    {
     "name": "stdout",
     "output_type": "stream",
     "text": [
      "Moviepy - Done !                                         \n",
      "Moviepy - video ready D:\\multi_agents_rl\\videos\\rl-video-episode-550.mp4\n",
      "Moviepy - Building video D:\\multi_agents_rl\\videos\\rl-video-episode-550.mp4.\n",
      "Moviepy - Writing video D:\\multi_agents_rl\\videos\\rl-video-episode-550.mp4\n",
      "\n",
      "Epoch 539: : 4it [00:01,  2.24it/s, loss=0.41, v_num=11]"
     ]
    },
    {
     "name": "stderr",
     "output_type": "stream",
     "text": [
      "\n",
      "t:   0%|                                                                                                                                     | 0/401 [00:00<?, ?it/s, now=None]\u001b[A\n",
      "t:  10%|████████████▎                                                                                                              | 40/401 [00:00<00:00, 399.87it/s, now=None]\u001b[A\n",
      "t:  25%|███████████████████████████████                                                                                           | 102/401 [00:00<00:00, 526.35it/s, now=None]\u001b[A\n",
      "t:  42%|███████████████████████████████████████████████████▋                                                                      | 170/401 [00:00<00:00, 593.57it/s, now=None]\u001b[A\n",
      "t:  58%|██████████████████████████████████████████████████████████████████████▌                                                   | 232/401 [00:00<00:00, 601.61it/s, now=None]\u001b[A\n",
      "t:  74%|██████████████████████████████████████████████████████████████████████████████████████████                                | 296/401 [00:00<00:00, 613.18it/s, now=None]\u001b[A\n",
      "t:  92%|███████████████████████████████████████████████████████████████████████████████████████████████████████████████▉          | 368/401 [00:00<00:00, 649.28it/s, now=None]\u001b[A\n",
      "                                                                                                                                                                               \u001b[A"
     ]
    },
    {
     "name": "stdout",
     "output_type": "stream",
     "text": [
      "Moviepy - Done !                                        \n",
      "Moviepy - video ready D:\\multi_agents_rl\\videos\\rl-video-episode-550.mp4\n",
      "Moviepy - Building video D:\\multi_agents_rl\\videos\\rl-video-episode-600.mp4.\n",
      "Moviepy - Writing video D:\\multi_agents_rl\\videos\\rl-video-episode-600.mp4\n",
      "\n",
      "Epoch 588: : 4it [00:00, 10.94it/s, loss=0.42, v_num=11]"
     ]
    },
    {
     "name": "stderr",
     "output_type": "stream",
     "text": [
      "\n",
      "t:   0%|                                                                                                                                       | 0/1 [00:00<?, ?it/s, now=None]\u001b[A\n",
      "                                                                                                                                                                               \u001b[A"
     ]
    },
    {
     "name": "stdout",
     "output_type": "stream",
     "text": [
      "Moviepy - Done !                                        \n",
      "Moviepy - video ready D:\\multi_agents_rl\\videos\\rl-video-episode-600.mp4\n",
      "Moviepy - Building video D:\\multi_agents_rl\\videos\\rl-video-episode-600.mp4.\n",
      "Moviepy - Writing video D:\\multi_agents_rl\\videos\\rl-video-episode-600.mp4\n",
      "\n",
      "Epoch 589: : 4it [00:01,  2.26it/s, loss=0.434, v_num=11]"
     ]
    },
    {
     "name": "stderr",
     "output_type": "stream",
     "text": [
      "\n",
      "t:   0%|                                                                                                                                     | 0/401 [00:00<?, ?it/s, now=None]\u001b[A\n",
      "t:  10%|████████████▉                                                                                                              | 42/401 [00:00<00:00, 412.56it/s, now=None]\u001b[A\n",
      "t:  27%|█████████████████████████████████▏                                                                                        | 109/401 [00:00<00:00, 559.70it/s, now=None]\u001b[A\n",
      "t:  47%|█████████████████████████████████████████████████████████▏                                                                | 188/401 [00:00<00:00, 658.16it/s, now=None]\u001b[A\n",
      "t:  66%|████████████████████████████████████████████████████████████████████████████████▉                                         | 266/401 [00:00<00:00, 700.31it/s, now=None]\u001b[A\n",
      "t:  86%|████████████████████████████████████████████████████████████████████████████████████████████████████████▎                 | 343/401 [00:00<00:00, 722.59it/s, now=None]\u001b[A\n",
      "                                                                                                                                                                               \u001b[A"
     ]
    },
    {
     "name": "stdout",
     "output_type": "stream",
     "text": [
      "Moviepy - Done !                                         \n",
      "Moviepy - video ready D:\\multi_agents_rl\\videos\\rl-video-episode-600.mp4\n",
      "Moviepy - Building video D:\\multi_agents_rl\\videos\\rl-video-episode-650.mp4.\n",
      "Moviepy - Writing video D:\\multi_agents_rl\\videos\\rl-video-episode-650.mp4\n",
      "\n",
      "Epoch 638: : 4it [00:00, 10.39it/s, loss=0.422, v_num=11]"
     ]
    },
    {
     "name": "stderr",
     "output_type": "stream",
     "text": [
      "\n",
      "t:   0%|                                                                                                                                       | 0/1 [00:00<?, ?it/s, now=None]\u001b[A\n",
      "                                                                                                                                                                               \u001b[A"
     ]
    },
    {
     "name": "stdout",
     "output_type": "stream",
     "text": [
      "Moviepy - Done !                                         \n",
      "Moviepy - video ready D:\\multi_agents_rl\\videos\\rl-video-episode-650.mp4\n",
      "Moviepy - Building video D:\\multi_agents_rl\\videos\\rl-video-episode-650.mp4.\n",
      "Moviepy - Writing video D:\\multi_agents_rl\\videos\\rl-video-episode-650.mp4\n",
      "\n",
      "Epoch 639: : 4it [00:01,  2.30it/s, loss=0.386, v_num=11]"
     ]
    },
    {
     "name": "stderr",
     "output_type": "stream",
     "text": [
      "\n",
      "t:   0%|                                                                                                                                     | 0/401 [00:00<?, ?it/s, now=None]\u001b[A\n",
      "t:   9%|███████████▋                                                                                                               | 38/401 [00:00<00:00, 376.24it/s, now=None]\u001b[A\n",
      "t:  26%|███████████████████████████████▎                                                                                          | 103/401 [00:00<00:00, 533.49it/s, now=None]\u001b[A\n",
      "t:  45%|██████████████████████████████████████████████████████▊                                                                   | 180/401 [00:00<00:00, 640.56it/s, now=None]\u001b[A\n",
      "t:  65%|███████████████████████████████████████████████████████████████████████████████                                           | 260/401 [00:00<00:00, 703.27it/s, now=None]\u001b[A\n",
      "t:  85%|███████████████████████████████████████████████████████████████████████████████████████████████████████▏                  | 339/401 [00:00<00:00, 731.86it/s, now=None]\u001b[A\n",
      "                                                                                                                                                                               \u001b[A"
     ]
    },
    {
     "name": "stdout",
     "output_type": "stream",
     "text": [
      "Moviepy - Done !                                         \n",
      "Moviepy - video ready D:\\multi_agents_rl\\videos\\rl-video-episode-650.mp4\n",
      "Moviepy - Building video D:\\multi_agents_rl\\videos\\rl-video-episode-700.mp4.\n",
      "Moviepy - Writing video D:\\multi_agents_rl\\videos\\rl-video-episode-700.mp4\n",
      "\n",
      "Epoch 688: : 4it [00:00, 10.00it/s, loss=0.423, v_num=11]"
     ]
    },
    {
     "name": "stderr",
     "output_type": "stream",
     "text": [
      "\n",
      "t:   0%|                                                                                                                                       | 0/1 [00:00<?, ?it/s, now=None]\u001b[A\n",
      "                                                                                                                                                                               \u001b[A"
     ]
    },
    {
     "name": "stdout",
     "output_type": "stream",
     "text": [
      "Moviepy - Done !                                         \n",
      "Moviepy - video ready D:\\multi_agents_rl\\videos\\rl-video-episode-700.mp4\n",
      "Moviepy - Building video D:\\multi_agents_rl\\videos\\rl-video-episode-700.mp4.\n",
      "Moviepy - Writing video D:\\multi_agents_rl\\videos\\rl-video-episode-700.mp4\n",
      "\n",
      "Epoch 689: : 4it [00:01,  2.23it/s, loss=0.384, v_num=11]"
     ]
    },
    {
     "name": "stderr",
     "output_type": "stream",
     "text": [
      "\n",
      "t:   0%|                                                                                                                                     | 0/401 [00:00<?, ?it/s, now=None]\u001b[A\n",
      "t:  10%|████████████▌                                                                                                              | 41/401 [00:00<00:00, 409.87it/s, now=None]\u001b[A\n",
      "t:  27%|████████████████████████████████▌                                                                                         | 107/401 [00:00<00:00, 555.39it/s, now=None]\u001b[A\n",
      "t:  45%|███████████████████████████████████████████████████████▎                                                                  | 182/401 [00:00<00:00, 641.19it/s, now=None]\u001b[A\n",
      "t:  64%|██████████████████████████████████████████████████████████████████████████████▏                                           | 257/401 [00:00<00:00, 678.64it/s, now=None]\u001b[A\n",
      "t:  82%|████████████████████████████████████████████████████████████████████████████████████████████████████                      | 329/401 [00:00<00:00, 690.98it/s, now=None]\u001b[A\n",
      "                                                                                                                                                                               \u001b[A"
     ]
    },
    {
     "name": "stdout",
     "output_type": "stream",
     "text": [
      "Moviepy - Done !                                         \n",
      "Moviepy - video ready D:\\multi_agents_rl\\videos\\rl-video-episode-700.mp4\n",
      "Moviepy - Building video D:\\multi_agents_rl\\videos\\rl-video-episode-750.mp4.\n",
      "Moviepy - Writing video D:\\multi_agents_rl\\videos\\rl-video-episode-750.mp4\n",
      "\n",
      "Epoch 738: : 4it [00:00,  9.50it/s, loss=0.315, v_num=11]"
     ]
    },
    {
     "name": "stderr",
     "output_type": "stream",
     "text": [
      "\n",
      "t:   0%|                                                                                                                                       | 0/1 [00:00<?, ?it/s, now=None]\u001b[A\n",
      "                                                                                                                                                                               \u001b[A"
     ]
    },
    {
     "name": "stdout",
     "output_type": "stream",
     "text": [
      "Moviepy - Done !                                         \n",
      "Moviepy - video ready D:\\multi_agents_rl\\videos\\rl-video-episode-750.mp4\n",
      "Moviepy - Building video D:\\multi_agents_rl\\videos\\rl-video-episode-750.mp4.\n",
      "Moviepy - Writing video D:\\multi_agents_rl\\videos\\rl-video-episode-750.mp4\n",
      "\n",
      "Epoch 739: : 4it [00:01,  2.19it/s, loss=0.355, v_num=11]"
     ]
    },
    {
     "name": "stderr",
     "output_type": "stream",
     "text": [
      "\n",
      "t:   0%|                                                                                                                                     | 0/401 [00:00<?, ?it/s, now=None]\u001b[A\n",
      "t:  10%|███████████▉                                                                                                               | 39/401 [00:00<00:00, 382.88it/s, now=None]\u001b[A\n",
      "t:  25%|███████████████████████████████                                                                                           | 102/401 [00:00<00:00, 527.04it/s, now=None]\u001b[A\n",
      "t:  44%|█████████████████████████████████████████████████████▏                                                                    | 175/401 [00:00<00:00, 613.83it/s, now=None]\u001b[A\n",
      "t:  64%|██████████████████████████████████████████████████████████████████████████████▏                                           | 257/401 [00:00<00:00, 694.56it/s, now=None]\u001b[A\n",
      "t:  83%|█████████████████████████████████████████████████████████████████████████████████████████████████████▌                    | 334/401 [00:00<00:00, 719.05it/s, now=None]\u001b[A\n",
      "                                                                                                                                                                               \u001b[A"
     ]
    },
    {
     "name": "stdout",
     "output_type": "stream",
     "text": [
      "Moviepy - Done !                                         \n",
      "Moviepy - video ready D:\\multi_agents_rl\\videos\\rl-video-episode-750.mp4\n",
      "Moviepy - Building video D:\\multi_agents_rl\\videos\\rl-video-episode-800.mp4.\n",
      "Moviepy - Writing video D:\\multi_agents_rl\\videos\\rl-video-episode-800.mp4\n",
      "\n",
      "Epoch 788: : 4it [00:00,  9.20it/s, loss=0.393, v_num=11]"
     ]
    },
    {
     "name": "stderr",
     "output_type": "stream",
     "text": [
      "\n",
      "t:   0%|                                                                                                                                       | 0/1 [00:00<?, ?it/s, now=None]\u001b[A\n",
      "                                                                                                                                                                               \u001b[A"
     ]
    },
    {
     "name": "stdout",
     "output_type": "stream",
     "text": [
      "Moviepy - Done !                                         \n",
      "Moviepy - video ready D:\\multi_agents_rl\\videos\\rl-video-episode-800.mp4\n",
      "Moviepy - Building video D:\\multi_agents_rl\\videos\\rl-video-episode-800.mp4.\n",
      "Moviepy - Writing video D:\\multi_agents_rl\\videos\\rl-video-episode-800.mp4\n",
      "\n",
      "Epoch 789: : 4it [00:01,  2.29it/s, loss=0.424, v_num=11]"
     ]
    },
    {
     "name": "stderr",
     "output_type": "stream",
     "text": [
      "\n",
      "t:   0%|                                                                                                                                     | 0/401 [00:00<?, ?it/s, now=None]\u001b[A\n",
      "t:  10%|███████████▉                                                                                                               | 39/401 [00:00<00:00, 386.64it/s, now=None]\u001b[A\n",
      "t:  26%|███████████████████████████████▋                                                                                          | 104/401 [00:00<00:00, 534.74it/s, now=None]\u001b[A\n",
      "t:  44%|██████████████████████████████████████████████████████▏                                                                   | 178/401 [00:00<00:00, 627.69it/s, now=None]\u001b[A\n",
      "t:  63%|█████████████████████████████████████████████████████████████████████████████▎                                            | 254/401 [00:00<00:00, 677.01it/s, now=None]\u001b[A\n",
      "t:  80%|█████████████████████████████████████████████████████████████████████████████████████████████████▉                        | 322/401 [00:00<00:00, 647.88it/s, now=None]\u001b[A\n",
      "t:  98%|███████████████████████████████████████████████████████████████████████████████████████████████████████████████████████▌  | 393/401 [00:00<00:00, 668.29it/s, now=None]\u001b[A\n",
      "                                                                                                                                                                               \u001b[A"
     ]
    },
    {
     "name": "stdout",
     "output_type": "stream",
     "text": [
      "Moviepy - Done !                                         \n",
      "Moviepy - video ready D:\\multi_agents_rl\\videos\\rl-video-episode-800.mp4\n",
      "Moviepy - Building video D:\\multi_agents_rl\\videos\\rl-video-episode-850.mp4.\n",
      "Moviepy - Writing video D:\\multi_agents_rl\\videos\\rl-video-episode-850.mp4\n",
      "\n",
      "Epoch 838: : 4it [00:00,  8.54it/s, loss=0.245, v_num=11]"
     ]
    },
    {
     "name": "stderr",
     "output_type": "stream",
     "text": [
      "\n",
      "t:   0%|                                                                                                                                       | 0/1 [00:00<?, ?it/s, now=None]\u001b[A\n",
      "                                                                                                                                                                               \u001b[A"
     ]
    },
    {
     "name": "stdout",
     "output_type": "stream",
     "text": [
      "Moviepy - Done !                                         \n",
      "Moviepy - video ready D:\\multi_agents_rl\\videos\\rl-video-episode-850.mp4\n",
      "Moviepy - Building video D:\\multi_agents_rl\\videos\\rl-video-episode-850.mp4.\n",
      "Moviepy - Writing video D:\\multi_agents_rl\\videos\\rl-video-episode-850.mp4\n",
      "\n",
      "Epoch 839: : 4it [00:01,  2.04it/s, loss=0.28, v_num=11]"
     ]
    },
    {
     "name": "stderr",
     "output_type": "stream",
     "text": [
      "\n",
      "t:   0%|                                                                                                                                     | 0/401 [00:00<?, ?it/s, now=None]\u001b[A\n",
      "t:   9%|███████████▎                                                                                                               | 37/401 [00:00<00:00, 366.53it/s, now=None]\u001b[A\n",
      "t:  25%|██████████████████████████████▋                                                                                           | 101/401 [00:00<00:00, 520.76it/s, now=None]\u001b[A\n",
      "t:  44%|█████████████████████████████████████████████████████▏                                                                    | 175/401 [00:00<00:00, 617.24it/s, now=None]\u001b[A\n",
      "t:  63%|████████████████████████████████████████████████████████████████████████████▎                                             | 251/401 [00:00<00:00, 670.52it/s, now=None]\u001b[A\n",
      "t:  80%|█████████████████████████████████████████████████████████████████████████████████████████████████▉                        | 322/401 [00:00<00:00, 684.40it/s, now=None]\u001b[A\n",
      "                                                                                                                                                                               \u001b[A"
     ]
    },
    {
     "name": "stdout",
     "output_type": "stream",
     "text": [
      "Moviepy - Done !                                        \n",
      "Moviepy - video ready D:\\multi_agents_rl\\videos\\rl-video-episode-850.mp4\n",
      "Moviepy - Building video D:\\multi_agents_rl\\videos\\rl-video-episode-900.mp4.\n",
      "Moviepy - Writing video D:\\multi_agents_rl\\videos\\rl-video-episode-900.mp4\n",
      "\n",
      "Epoch 888: : 4it [00:00, 10.61it/s, loss=0.29, v_num=11]"
     ]
    },
    {
     "name": "stderr",
     "output_type": "stream",
     "text": [
      "\n",
      "t:   0%|                                                                                                                                       | 0/1 [00:00<?, ?it/s, now=None]\u001b[A\n",
      "                                                                                                                                                                               \u001b[A"
     ]
    },
    {
     "name": "stdout",
     "output_type": "stream",
     "text": [
      "Moviepy - Done !                                        \n",
      "Moviepy - video ready D:\\multi_agents_rl\\videos\\rl-video-episode-900.mp4\n",
      "Moviepy - Building video D:\\multi_agents_rl\\videos\\rl-video-episode-900.mp4.\n",
      "Moviepy - Writing video D:\\multi_agents_rl\\videos\\rl-video-episode-900.mp4\n",
      "\n",
      "Epoch 889: : 4it [00:01,  2.26it/s, loss=0.28, v_num=11]"
     ]
    },
    {
     "name": "stderr",
     "output_type": "stream",
     "text": [
      "\n",
      "t:   0%|                                                                                                                                     | 0/401 [00:00<?, ?it/s, now=None]\u001b[A\n",
      "t:  10%|████████████▎                                                                                                              | 40/401 [00:00<00:00, 397.36it/s, now=None]\u001b[A\n",
      "t:  26%|███████████████████████████████▉                                                                                          | 105/401 [00:00<00:00, 542.39it/s, now=None]\u001b[A\n",
      "t:  45%|██████████████████████████████████████████████████████▊                                                                   | 180/401 [00:00<00:00, 636.75it/s, now=None]\u001b[A\n",
      "t:  65%|███████████████████████████████████████████████████████████████████████████████                                           | 260/401 [00:00<00:00, 701.01it/s, now=None]\u001b[A\n",
      "t:  84%|██████████████████████████████████████████████████████████████████████████████████████████████████████▊                   | 338/401 [00:00<00:00, 726.83it/s, now=None]\u001b[A\n",
      "                                                                                                                                                                               \u001b[A"
     ]
    },
    {
     "name": "stdout",
     "output_type": "stream",
     "text": [
      "Moviepy - Done !                                        \n",
      "Moviepy - video ready D:\\multi_agents_rl\\videos\\rl-video-episode-900.mp4\n",
      "Moviepy - Building video D:\\multi_agents_rl\\videos\\rl-video-episode-950.mp4.\n",
      "Moviepy - Writing video D:\\multi_agents_rl\\videos\\rl-video-episode-950.mp4\n",
      "\n",
      "Epoch 938: : 4it [00:00,  8.78it/s, loss=0.29, v_num=11]"
     ]
    },
    {
     "name": "stderr",
     "output_type": "stream",
     "text": [
      "\n",
      "t:   0%|                                                                                                                                       | 0/1 [00:00<?, ?it/s, now=None]\u001b[A\n",
      "                                                                                                                                                                               \u001b[A"
     ]
    },
    {
     "name": "stdout",
     "output_type": "stream",
     "text": [
      "Moviepy - Done !                                        \n",
      "Moviepy - video ready D:\\multi_agents_rl\\videos\\rl-video-episode-950.mp4\n",
      "Moviepy - Building video D:\\multi_agents_rl\\videos\\rl-video-episode-950.mp4.\n",
      "Moviepy - Writing video D:\\multi_agents_rl\\videos\\rl-video-episode-950.mp4\n",
      "\n",
      "Epoch 939: : 4it [00:01,  2.21it/s, loss=0.3, v_num=11]"
     ]
    },
    {
     "name": "stderr",
     "output_type": "stream",
     "text": [
      "\n",
      "t:   0%|                                                                                                                                     | 0/401 [00:00<?, ?it/s, now=None]\u001b[A\n",
      "t:   9%|███████████▋                                                                                                               | 38/401 [00:00<00:00, 377.48it/s, now=None]\u001b[A\n",
      "t:  25%|███████████████████████████████                                                                                           | 102/401 [00:00<00:00, 530.31it/s, now=None]\u001b[A\n",
      "t:  44%|██████████████████████████████████████████████████████▏                                                                   | 178/401 [00:00<00:00, 632.14it/s, now=None]\u001b[A\n",
      "t:  63%|████████████████████████████████████████████████████████████████████████████▉                                             | 253/401 [00:00<00:00, 675.81it/s, now=None]\u001b[A\n",
      "t:  80%|█████████████████████████████████████████████████████████████████████████████████████████████████▉                        | 322/401 [00:00<00:00, 680.82it/s, now=None]\u001b[A\n",
      "t:  99%|█████████████████████████████████████████████████████████████████████████████████████████████████████████████████████████ | 398/401 [00:00<00:00, 702.97it/s, now=None]\u001b[A\n",
      "                                                                                                                                                                               \u001b[A"
     ]
    },
    {
     "name": "stdout",
     "output_type": "stream",
     "text": [
      "Moviepy - Done !                                       \n",
      "Moviepy - video ready D:\\multi_agents_rl\\videos\\rl-video-episode-950.mp4\n",
      "Moviepy - Building video D:\\multi_agents_rl\\videos\\rl-video-episode-1000.mp4.\n",
      "Moviepy - Writing video D:\\multi_agents_rl\\videos\\rl-video-episode-1000.mp4\n",
      "\n",
      "Epoch 988: : 4it [00:00,  9.31it/s, loss=0.212, v_num=11]"
     ]
    },
    {
     "name": "stderr",
     "output_type": "stream",
     "text": [
      "\n",
      "t:   0%|                                                                                                                                       | 0/1 [00:00<?, ?it/s, now=None]\u001b[A\n",
      "                                                                                                                                                                               \u001b[A"
     ]
    },
    {
     "name": "stdout",
     "output_type": "stream",
     "text": [
      "Moviepy - Done !                                         \n",
      "Moviepy - video ready D:\\multi_agents_rl\\videos\\rl-video-episode-1000.mp4\n",
      "Moviepy - Building video D:\\multi_agents_rl\\videos\\rl-video-episode-1000.mp4.\n",
      "Moviepy - Writing video D:\\multi_agents_rl\\videos\\rl-video-episode-1000.mp4\n",
      "\n",
      "Epoch 989: : 4it [00:01,  2.33it/s, loss=0.211, v_num=11]"
     ]
    },
    {
     "name": "stderr",
     "output_type": "stream",
     "text": [
      "\n",
      "t:   0%|                                                                                                                                     | 0/401 [00:00<?, ?it/s, now=None]\u001b[A\n",
      "t:  10%|████████████▎                                                                                                              | 40/401 [00:00<00:00, 396.02it/s, now=None]\u001b[A\n",
      "t:  26%|███████████████████████████████▉                                                                                          | 105/401 [00:00<00:00, 541.63it/s, now=None]\u001b[A\n",
      "t:  45%|██████████████████████████████████████████████████████▊                                                                   | 180/401 [00:00<00:00, 633.37it/s, now=None]\u001b[A\n",
      "t:  63%|████████████████████████████████████████████████████████████████████████████▉                                             | 253/401 [00:00<00:00, 670.19it/s, now=None]\u001b[A\n",
      "t:  81%|██████████████████████████████████████████████████████████████████████████████████████████████████▌                       | 324/401 [00:00<00:00, 682.04it/s, now=None]\u001b[A\n",
      "t: 100%|█████████████████████████████████████████████████████████████████████████████████████████████████████████████████████████▍| 399/401 [00:00<00:00, 705.00it/s, now=None]\u001b[A\n",
      "                                                                                                                                                                               \u001b[A"
     ]
    },
    {
     "name": "stdout",
     "output_type": "stream",
     "text": [
      "Moviepy - Done !                                         \n",
      "Moviepy - video ready D:\\multi_agents_rl\\videos\\rl-video-episode-1000.mp4\n",
      "Moviepy - Building video D:\\multi_agents_rl\\videos\\rl-video-episode-1050.mp4.\n",
      "Moviepy - Writing video D:\\multi_agents_rl\\videos\\rl-video-episode-1050.mp4\n",
      "\n",
      "Epoch 1038: : 4it [00:00, 10.18it/s, loss=0.195, v_num=11]"
     ]
    },
    {
     "name": "stderr",
     "output_type": "stream",
     "text": [
      "\n",
      "t:   0%|                                                                                                                                       | 0/1 [00:00<?, ?it/s, now=None]\u001b[A\n",
      "                                                                                                                                                                               \u001b[A"
     ]
    },
    {
     "name": "stdout",
     "output_type": "stream",
     "text": [
      "Moviepy - Done !                                          \n",
      "Moviepy - video ready D:\\multi_agents_rl\\videos\\rl-video-episode-1050.mp4\n",
      "Moviepy - Building video D:\\multi_agents_rl\\videos\\rl-video-episode-1050.mp4.\n",
      "Moviepy - Writing video D:\\multi_agents_rl\\videos\\rl-video-episode-1050.mp4\n",
      "\n",
      "Epoch 1039: : 4it [00:01,  2.31it/s, loss=0.186, v_num=11]"
     ]
    },
    {
     "name": "stderr",
     "output_type": "stream",
     "text": [
      "\n",
      "t:   0%|                                                                                                                                     | 0/401 [00:00<?, ?it/s, now=None]\u001b[A\n",
      "t:   9%|███████████▎                                                                                                               | 37/401 [00:00<00:01, 362.61it/s, now=None]\u001b[A\n",
      "t:  25%|██████████████████████████████▋                                                                                           | 101/401 [00:00<00:00, 521.49it/s, now=None]\u001b[A\n",
      "t:  43%|████████████████████████████████████████████████████▋                                                                     | 173/401 [00:00<00:00, 611.39it/s, now=None]\u001b[A\n",
      "t:  62%|███████████████████████████████████████████████████████████████████████████▏                                              | 247/401 [00:00<00:00, 659.39it/s, now=None]\u001b[A\n",
      "t:  80%|█████████████████████████████████████████████████████████████████████████████████████████████████▋                        | 321/401 [00:00<00:00, 685.79it/s, now=None]\u001b[A\n",
      "t:  99%|████████████████████████████████████████████████████████████████████████████████████████████████████████████████████████▊ | 397/401 [00:00<00:00, 706.09it/s, now=None]\u001b[A\n",
      "                                                                                                                                                                               \u001b[A"
     ]
    },
    {
     "name": "stdout",
     "output_type": "stream",
     "text": [
      "Moviepy - Done !                                          \n",
      "Moviepy - video ready D:\\multi_agents_rl\\videos\\rl-video-episode-1050.mp4\n",
      "Moviepy - Building video D:\\multi_agents_rl\\videos\\rl-video-episode-1100.mp4.\n",
      "Moviepy - Writing video D:\\multi_agents_rl\\videos\\rl-video-episode-1100.mp4\n",
      "\n",
      "Epoch 1088: : 4it [00:00,  9.43it/s, loss=0.197, v_num=11]"
     ]
    },
    {
     "name": "stderr",
     "output_type": "stream",
     "text": [
      "\n",
      "t:   0%|                                                                                                                                       | 0/1 [00:00<?, ?it/s, now=None]\u001b[A\n",
      "                                                                                                                                                                               \u001b[A"
     ]
    },
    {
     "name": "stdout",
     "output_type": "stream",
     "text": [
      "Moviepy - Done !                                          \n",
      "Moviepy - video ready D:\\multi_agents_rl\\videos\\rl-video-episode-1100.mp4\n",
      "Moviepy - Building video D:\\multi_agents_rl\\videos\\rl-video-episode-1100.mp4.\n",
      "Moviepy - Writing video D:\\multi_agents_rl\\videos\\rl-video-episode-1100.mp4\n",
      "\n",
      "Epoch 1089: : 4it [00:01,  2.23it/s, loss=0.195, v_num=11]"
     ]
    },
    {
     "name": "stderr",
     "output_type": "stream",
     "text": [
      "\n",
      "t:   0%|                                                                                                                                     | 0/401 [00:00<?, ?it/s, now=None]\u001b[A\n",
      "t:  10%|███████████▉                                                                                                               | 39/401 [00:00<00:00, 388.27it/s, now=None]\u001b[A\n",
      "t:  25%|███████████████████████████████                                                                                           | 102/401 [00:00<00:00, 527.20it/s, now=None]\u001b[A\n",
      "t:  44%|█████████████████████████████████████████████████████▊                                                                    | 177/401 [00:00<00:00, 622.87it/s, now=None]\u001b[A\n",
      "t:  64%|█████████████████████████████████████████████████████████████████████████████▌                                            | 255/401 [00:00<00:00, 684.40it/s, now=None]\u001b[A\n",
      "t:  81%|███████████████████████████████████████████████████████████████████████████████████████████████████▏                      | 326/401 [00:00<00:00, 691.10it/s, now=None]\u001b[A\n",
      "                                                                                                                                                                               \u001b[A"
     ]
    },
    {
     "name": "stdout",
     "output_type": "stream",
     "text": [
      "Moviepy - Done !                                          \n",
      "Moviepy - video ready D:\\multi_agents_rl\\videos\\rl-video-episode-1100.mp4\n",
      "Moviepy - Building video D:\\multi_agents_rl\\videos\\rl-video-episode-1150.mp4.\n",
      "Moviepy - Writing video D:\\multi_agents_rl\\videos\\rl-video-episode-1150.mp4\n",
      "\n",
      "Epoch 1138: : 4it [00:00, 10.30it/s, loss=0.268, v_num=11]"
     ]
    },
    {
     "name": "stderr",
     "output_type": "stream",
     "text": [
      "\n",
      "t:   0%|                                                                                                                                       | 0/1 [00:00<?, ?it/s, now=None]\u001b[A\n",
      "                                                                                                                                                                               \u001b[A"
     ]
    },
    {
     "name": "stdout",
     "output_type": "stream",
     "text": [
      "Moviepy - Done !                                          \n",
      "Moviepy - video ready D:\\multi_agents_rl\\videos\\rl-video-episode-1150.mp4\n",
      "Moviepy - Building video D:\\multi_agents_rl\\videos\\rl-video-episode-1150.mp4.\n",
      "Moviepy - Writing video D:\\multi_agents_rl\\videos\\rl-video-episode-1150.mp4\n",
      "\n",
      "Epoch 1139: : 4it [00:01,  2.35it/s, loss=0.265, v_num=11]"
     ]
    },
    {
     "name": "stderr",
     "output_type": "stream",
     "text": [
      "\n",
      "t:   0%|                                                                                                                                     | 0/401 [00:00<?, ?it/s, now=None]\u001b[A\n",
      "t:   9%|██████████▋                                                                                                                | 35/401 [00:00<00:01, 349.99it/s, now=None]\u001b[A\n",
      "t:  24%|██████████████████████████████                                                                                             | 98/401 [00:00<00:00, 511.70it/s, now=None]\u001b[A\n",
      "t:  42%|██████████████████████████████████████████████████▊                                                                       | 167/401 [00:00<00:00, 590.16it/s, now=None]\u001b[A\n",
      "t:  61%|██████████████████████████████████████████████████████████████████████████▊                                               | 246/401 [00:00<00:00, 666.07it/s, now=None]\u001b[A\n",
      "t:  82%|███████████████████████████████████████████████████████████████████████████████████████████████████▊                      | 328/401 [00:00<00:00, 718.70it/s, now=None]\u001b[A\n",
      "                                                                                                                                                                               \u001b[A"
     ]
    },
    {
     "name": "stdout",
     "output_type": "stream",
     "text": [
      "Moviepy - Done !                                          \n",
      "Moviepy - video ready D:\\multi_agents_rl\\videos\\rl-video-episode-1150.mp4\n",
      "Moviepy - Building video D:\\multi_agents_rl\\videos\\rl-video-episode-1200.mp4.\n",
      "Moviepy - Writing video D:\\multi_agents_rl\\videos\\rl-video-episode-1200.mp4\n",
      "\n",
      "Epoch 1188: : 4it [00:00,  9.46it/s, loss=0.229, v_num=11]"
     ]
    },
    {
     "name": "stderr",
     "output_type": "stream",
     "text": [
      "\n",
      "t:   0%|                                                                                                                                       | 0/1 [00:00<?, ?it/s, now=None]\u001b[A\n",
      "                                                                                                                                                                               \u001b[A"
     ]
    },
    {
     "name": "stdout",
     "output_type": "stream",
     "text": [
      "Moviepy - Done !                                          \n",
      "Moviepy - video ready D:\\multi_agents_rl\\videos\\rl-video-episode-1200.mp4\n",
      "Moviepy - Building video D:\\multi_agents_rl\\videos\\rl-video-episode-1200.mp4.\n",
      "Moviepy - Writing video D:\\multi_agents_rl\\videos\\rl-video-episode-1200.mp4\n",
      "\n",
      "Epoch 1189: : 4it [00:01,  2.24it/s, loss=0.217, v_num=11]"
     ]
    },
    {
     "name": "stderr",
     "output_type": "stream",
     "text": [
      "\n",
      "t:   0%|                                                                                                                                     | 0/401 [00:00<?, ?it/s, now=None]\u001b[A\n",
      "t:   9%|███████████▎                                                                                                               | 37/401 [00:00<00:00, 366.34it/s, now=None]\u001b[A\n",
      "t:  26%|███████████████████████████████▎                                                                                          | 103/401 [00:00<00:00, 537.64it/s, now=None]\u001b[A\n",
      "t:  44%|█████████████████████████████████████████████████████▌                                                                    | 176/401 [00:00<00:00, 622.39it/s, now=None]\u001b[A\n",
      "t:  63%|████████████████████████████████████████████████████████████████████████████▋                                             | 252/401 [00:00<00:00, 673.82it/s, now=None]\u001b[A\n",
      "t:  82%|████████████████████████████████████████████████████████████████████████████████████████████████████                      | 329/401 [00:00<00:00, 708.31it/s, now=None]\u001b[A\n",
      "                                                                                                                                                                               \u001b[A"
     ]
    },
    {
     "name": "stdout",
     "output_type": "stream",
     "text": [
      "Moviepy - Done !                                          \n",
      "Moviepy - video ready D:\\multi_agents_rl\\videos\\rl-video-episode-1200.mp4\n",
      "Moviepy - Building video D:\\multi_agents_rl\\videos\\rl-video-episode-1250.mp4.\n",
      "Moviepy - Writing video D:\\multi_agents_rl\\videos\\rl-video-episode-1250.mp4\n",
      "\n",
      "Epoch 1238: : 4it [00:00,  9.22it/s, loss=0.29, v_num=11]"
     ]
    },
    {
     "name": "stderr",
     "output_type": "stream",
     "text": [
      "\n",
      "t:   0%|                                                                                                                                       | 0/1 [00:00<?, ?it/s, now=None]\u001b[A\n",
      "                                                                                                                                                                               \u001b[A"
     ]
    },
    {
     "name": "stdout",
     "output_type": "stream",
     "text": [
      "Moviepy - Done !                                         \n",
      "Moviepy - video ready D:\\multi_agents_rl\\videos\\rl-video-episode-1250.mp4\n",
      "Moviepy - Building video D:\\multi_agents_rl\\videos\\rl-video-episode-1250.mp4.\n",
      "Moviepy - Writing video D:\\multi_agents_rl\\videos\\rl-video-episode-1250.mp4\n",
      "\n",
      "Epoch 1239: : 4it [00:01,  2.38it/s, loss=0.279, v_num=11]"
     ]
    },
    {
     "name": "stderr",
     "output_type": "stream",
     "text": [
      "\n",
      "t:   0%|                                                                                                                                     | 0/372 [00:00<?, ?it/s, now=None]\u001b[A\n",
      "t:  10%|████████████▉                                                                                                              | 39/372 [00:00<00:00, 389.28it/s, now=None]\u001b[A\n",
      "t:  28%|██████████████████████████████████▍                                                                                       | 105/372 [00:00<00:00, 545.19it/s, now=None]\u001b[A\n",
      "t:  48%|██████████████████████████████████████████████████████████▋                                                               | 179/372 [00:00<00:00, 630.96it/s, now=None]\u001b[A\n",
      "t:  68%|██████████████████████████████████████████████████████████████████████████████████▋                                       | 252/372 [00:00<00:00, 669.87it/s, now=None]\u001b[A\n",
      "t:  89%|████████████████████████████████████████████████████████████████████████████████████████████████████████████▏             | 330/372 [00:00<00:00, 706.92it/s, now=None]\u001b[A\n",
      "                                                                                                                                                                               \u001b[A"
     ]
    },
    {
     "name": "stdout",
     "output_type": "stream",
     "text": [
      "Moviepy - Done !                                          \n",
      "Moviepy - video ready D:\\multi_agents_rl\\videos\\rl-video-episode-1250.mp4\n",
      "Moviepy - Building video D:\\multi_agents_rl\\videos\\rl-video-episode-1300.mp4.\n",
      "Moviepy - Writing video D:\\multi_agents_rl\\videos\\rl-video-episode-1300.mp4\n",
      "\n",
      "Epoch 1288: : 4it [00:00,  9.48it/s, loss=0.334, v_num=11]"
     ]
    },
    {
     "name": "stderr",
     "output_type": "stream",
     "text": [
      "\n",
      "t:   0%|                                                                                                                                       | 0/1 [00:00<?, ?it/s, now=None]\u001b[A\n",
      "                                                                                                                                                                               \u001b[A"
     ]
    },
    {
     "name": "stdout",
     "output_type": "stream",
     "text": [
      "Moviepy - Done !                                          \n",
      "Moviepy - video ready D:\\multi_agents_rl\\videos\\rl-video-episode-1300.mp4\n",
      "Moviepy - Building video D:\\multi_agents_rl\\videos\\rl-video-episode-1300.mp4.\n",
      "Moviepy - Writing video D:\\multi_agents_rl\\videos\\rl-video-episode-1300.mp4\n",
      "\n",
      "Epoch 1289: : 4it [00:01,  2.18it/s, loss=0.355, v_num=11]"
     ]
    },
    {
     "name": "stderr",
     "output_type": "stream",
     "text": [
      "\n",
      "t:   0%|                                                                                                                                     | 0/401 [00:00<?, ?it/s, now=None]\u001b[A\n",
      "t:   9%|███████████▋                                                                                                               | 38/401 [00:00<00:00, 379.22it/s, now=None]\u001b[A\n",
      "t:  27%|████████████████████████████████▌                                                                                         | 107/401 [00:00<00:00, 561.76it/s, now=None]\u001b[A\n",
      "t:  45%|███████████████████████████████████████████████████████                                                                   | 181/401 [00:00<00:00, 637.37it/s, now=None]\u001b[A\n",
      "t:  63%|████████████████████████████████████████████████████████████████████████████▉                                             | 253/401 [00:00<00:00, 664.60it/s, now=None]\u001b[A\n",
      "t:  80%|█████████████████████████████████████████████████████████████████████████████████████████████████▋                        | 321/401 [00:00<00:00, 670.10it/s, now=None]\u001b[A\n",
      "t: 100%|██████████████████████████████████████████████████████████████████████████████████████████████████████████████████████████| 401/401 [00:00<00:00, 714.00it/s, now=None]\u001b[A\n",
      "                                                                                                                                                                               \u001b[A"
     ]
    },
    {
     "name": "stdout",
     "output_type": "stream",
     "text": [
      "Moviepy - Done !                                          \n",
      "Moviepy - video ready D:\\multi_agents_rl\\videos\\rl-video-episode-1300.mp4\n",
      "Moviepy - Building video D:\\multi_agents_rl\\videos\\rl-video-episode-1350.mp4.\n",
      "Moviepy - Writing video D:\\multi_agents_rl\\videos\\rl-video-episode-1350.mp4\n",
      "\n",
      "Epoch 1338: : 4it [00:00,  8.94it/s, loss=0.256, v_num=11]"
     ]
    },
    {
     "name": "stderr",
     "output_type": "stream",
     "text": [
      "\n",
      "t:   0%|                                                                                                                                       | 0/1 [00:00<?, ?it/s, now=None]\u001b[A\n",
      "                                                                                                                                                                               \u001b[A"
     ]
    },
    {
     "name": "stdout",
     "output_type": "stream",
     "text": [
      "Moviepy - Done !                                          \n",
      "Moviepy - video ready D:\\multi_agents_rl\\videos\\rl-video-episode-1350.mp4\n",
      "Moviepy - Building video D:\\multi_agents_rl\\videos\\rl-video-episode-1350.mp4.\n",
      "Moviepy - Writing video D:\\multi_agents_rl\\videos\\rl-video-episode-1350.mp4\n",
      "\n",
      "Epoch 1339: : 4it [00:01,  2.20it/s, loss=0.278, v_num=11]"
     ]
    },
    {
     "name": "stderr",
     "output_type": "stream",
     "text": [
      "\n",
      "t:   0%|                                                                                                                                     | 0/401 [00:00<?, ?it/s, now=None]\u001b[A\n",
      "t:  10%|███████████▉                                                                                                               | 39/401 [00:00<00:00, 389.49it/s, now=None]\u001b[A\n",
      "t:  26%|███████████████████████████████▎                                                                                          | 103/401 [00:00<00:00, 533.63it/s, now=None]\u001b[A\n",
      "t:  44%|█████████████████████████████████████████████████████▏                                                                    | 175/401 [00:00<00:00, 612.79it/s, now=None]\u001b[A\n",
      "t:  62%|███████████████████████████████████████████████████████████████████████████▏                                              | 247/401 [00:00<00:00, 652.30it/s, now=None]\u001b[A\n",
      "t:  79%|████████████████████████████████████████████████████████████████████████████████████████████████▍                         | 317/401 [00:00<00:00, 668.48it/s, now=None]\u001b[A\n",
      "t:  99%|█████████████████████████████████████████████████████████████████████████████████████████████████████████████████████████ | 398/401 [00:00<00:00, 713.91it/s, now=None]\u001b[A\n",
      "                                                                                                                                                                               \u001b[A"
     ]
    },
    {
     "name": "stdout",
     "output_type": "stream",
     "text": [
      "Moviepy - Done !                                          \n",
      "Moviepy - video ready D:\\multi_agents_rl\\videos\\rl-video-episode-1350.mp4\n",
      "Moviepy - Building video D:\\multi_agents_rl\\videos\\rl-video-episode-1400.mp4.\n",
      "Moviepy - Writing video D:\\multi_agents_rl\\videos\\rl-video-episode-1400.mp4\n",
      "\n",
      "Epoch 1388: : 4it [00:00,  9.08it/s, loss=0.356, v_num=11]"
     ]
    },
    {
     "name": "stderr",
     "output_type": "stream",
     "text": [
      "\n",
      "t:   0%|                                                                                                                                       | 0/1 [00:00<?, ?it/s, now=None]\u001b[A\n",
      "                                                                                                                                                                               \u001b[A"
     ]
    },
    {
     "name": "stdout",
     "output_type": "stream",
     "text": [
      "Moviepy - Done !                                          \n",
      "Moviepy - video ready D:\\multi_agents_rl\\videos\\rl-video-episode-1400.mp4\n",
      "Moviepy - Building video D:\\multi_agents_rl\\videos\\rl-video-episode-1400.mp4.\n",
      "Moviepy - Writing video D:\\multi_agents_rl\\videos\\rl-video-episode-1400.mp4\n",
      "\n",
      "Epoch 1389: : 4it [00:01,  2.08it/s, loss=0.307, v_num=11]"
     ]
    },
    {
     "name": "stderr",
     "output_type": "stream",
     "text": [
      "\n",
      "t:   0%|                                                                                                                                     | 0/401 [00:00<?, ?it/s, now=None]\u001b[A\n",
      "t:  10%|███████████▉                                                                                                               | 39/401 [00:00<00:00, 389.92it/s, now=None]\u001b[A\n",
      "t:  27%|████████████████████████████████▊                                                                                         | 108/401 [00:00<00:00, 563.10it/s, now=None]\u001b[A\n",
      "t:  44%|█████████████████████████████████████████████████████▊                                                                    | 177/401 [00:00<00:00, 618.14it/s, now=None]\u001b[A\n",
      "t:  60%|█████████████████████████████████████████████████████████████████████████▋                                                | 242/401 [00:00<00:00, 630.58it/s, now=None]\u001b[A\n",
      "t:  77%|██████████████████████████████████████████████████████████████████████████████████████████████                            | 309/401 [00:00<00:00, 642.52it/s, now=None]\u001b[A\n",
      "t:  96%|████████████████████████████████████████████████████████████████████████████████████████████████████████████████████▊     | 384/401 [00:00<00:00, 678.90it/s, now=None]\u001b[A\n",
      "                                                                                                                                                                               \u001b[A"
     ]
    },
    {
     "name": "stdout",
     "output_type": "stream",
     "text": [
      "Moviepy - Done !                                          \n",
      "Moviepy - video ready D:\\multi_agents_rl\\videos\\rl-video-episode-1400.mp4\n",
      "Moviepy - Building video D:\\multi_agents_rl\\videos\\rl-video-episode-1450.mp4.\n",
      "Moviepy - Writing video D:\\multi_agents_rl\\videos\\rl-video-episode-1450.mp4\n",
      "\n",
      "Epoch 1438: : 4it [00:00, 10.44it/s, loss=0.311, v_num=11]"
     ]
    },
    {
     "name": "stderr",
     "output_type": "stream",
     "text": [
      "\n",
      "t:   0%|                                                                                                                                       | 0/1 [00:00<?, ?it/s, now=None]\u001b[A\n",
      "                                                                                                                                                                               \u001b[A"
     ]
    },
    {
     "name": "stdout",
     "output_type": "stream",
     "text": [
      "Moviepy - Done !                                          \n",
      "Moviepy - video ready D:\\multi_agents_rl\\videos\\rl-video-episode-1450.mp4\n",
      "Moviepy - Building video D:\\multi_agents_rl\\videos\\rl-video-episode-1450.mp4.\n",
      "Moviepy - Writing video D:\\multi_agents_rl\\videos\\rl-video-episode-1450.mp4\n",
      "\n",
      "Epoch 1439: : 4it [00:01,  2.42it/s, loss=0.308, v_num=11]"
     ]
    },
    {
     "name": "stderr",
     "output_type": "stream",
     "text": [
      "\n",
      "t:   0%|                                                                                                                                     | 0/367 [00:00<?, ?it/s, now=None]\u001b[A\n",
      "t:  10%|███████████▋                                                                                                               | 35/367 [00:00<00:00, 346.43it/s, now=None]\u001b[A\n",
      "t:  28%|█████████████████████████████████▌                                                                                        | 101/367 [00:00<00:00, 524.07it/s, now=None]\u001b[A\n",
      "t:  46%|████████████████████████████████████████████████████████▌                                                                 | 170/367 [00:00<00:00, 599.09it/s, now=None]\u001b[A\n",
      "t:  66%|████████████████████████████████████████████████████████████████████████████████▍                                         | 242/367 [00:00<00:00, 644.05it/s, now=None]\u001b[A\n",
      "t:  84%|██████████████████████████████████████████████████████████████████████████████████████████████████████▋                   | 309/367 [00:00<00:00, 651.10it/s, now=None]\u001b[A\n",
      "                                                                                                                                                                               \u001b[A"
     ]
    },
    {
     "name": "stdout",
     "output_type": "stream",
     "text": [
      "Moviepy - Done !                                          \n",
      "Moviepy - video ready D:\\multi_agents_rl\\videos\\rl-video-episode-1450.mp4\n",
      "Moviepy - Building video D:\\multi_agents_rl\\videos\\rl-video-episode-1500.mp4.\n",
      "Moviepy - Writing video D:\\multi_agents_rl\\videos\\rl-video-episode-1500.mp4\n",
      "\n",
      "Epoch 1488: : 4it [00:00,  9.37it/s, loss=0.333, v_num=11]"
     ]
    },
    {
     "name": "stderr",
     "output_type": "stream",
     "text": [
      "\n",
      "t:   0%|                                                                                                                                       | 0/1 [00:00<?, ?it/s, now=None]\u001b[A\n",
      "                                                                                                                                                                               \u001b[A"
     ]
    },
    {
     "name": "stdout",
     "output_type": "stream",
     "text": [
      "Moviepy - Done !                                          \n",
      "Moviepy - video ready D:\\multi_agents_rl\\videos\\rl-video-episode-1500.mp4\n",
      "Moviepy - Building video D:\\multi_agents_rl\\videos\\rl-video-episode-1500.mp4.\n",
      "Moviepy - Writing video D:\\multi_agents_rl\\videos\\rl-video-episode-1500.mp4\n",
      "\n",
      "Epoch 1489: : 4it [00:01,  2.22it/s, loss=0.326, v_num=11]"
     ]
    },
    {
     "name": "stderr",
     "output_type": "stream",
     "text": [
      "\n",
      "t:   0%|                                                                                                                                     | 0/401 [00:00<?, ?it/s, now=None]\u001b[A\n",
      "t:  10%|███████████▉                                                                                                               | 39/401 [00:00<00:00, 389.89it/s, now=None]\u001b[A\n",
      "t:  25%|██████████████████████████████▋                                                                                           | 101/401 [00:00<00:00, 522.16it/s, now=None]\u001b[A\n",
      "t:  44%|█████████████████████████████████████████████████████▌                                                                    | 176/401 [00:00<00:00, 623.02it/s, now=None]\u001b[A\n",
      "t:  62%|███████████████████████████████████████████████████████████████████████████▊                                              | 249/401 [00:00<00:00, 662.54it/s, now=None]\u001b[A\n",
      "t:  80%|█████████████████████████████████████████████████████████████████████████████████████████████████▉                        | 322/401 [00:00<00:00, 686.73it/s, now=None]\u001b[A\n",
      "                                                                                                                                                                               \u001b[A"
     ]
    },
    {
     "name": "stdout",
     "output_type": "stream",
     "text": [
      "Moviepy - Done !                                          \n",
      "Moviepy - video ready D:\\multi_agents_rl\\videos\\rl-video-episode-1500.mp4\n",
      "Moviepy - Building video D:\\multi_agents_rl\\videos\\rl-video-episode-1550.mp4.\n",
      "Moviepy - Writing video D:\\multi_agents_rl\\videos\\rl-video-episode-1550.mp4\n",
      "\n",
      "Epoch 1538: : 4it [00:00,  8.59it/s, loss=0.356, v_num=11]"
     ]
    },
    {
     "name": "stderr",
     "output_type": "stream",
     "text": [
      "\n",
      "t:   0%|                                                                                                                                       | 0/1 [00:00<?, ?it/s, now=None]\u001b[A\n",
      "                                                                                                                                                                               \u001b[A"
     ]
    },
    {
     "name": "stdout",
     "output_type": "stream",
     "text": [
      "Moviepy - Done !                                          \n",
      "Moviepy - video ready D:\\multi_agents_rl\\videos\\rl-video-episode-1550.mp4\n",
      "Moviepy - Building video D:\\multi_agents_rl\\videos\\rl-video-episode-1550.mp4.\n",
      "Moviepy - Writing video D:\\multi_agents_rl\\videos\\rl-video-episode-1550.mp4\n",
      "\n",
      "Epoch 1539: : 4it [00:01,  2.55it/s, loss=0.331, v_num=11]"
     ]
    },
    {
     "name": "stderr",
     "output_type": "stream",
     "text": [
      "\n",
      "t:   0%|                                                                                                                                     | 0/339 [00:00<?, ?it/s, now=None]\u001b[A\n",
      "t:  11%|█████████████                                                                                                              | 36/339 [00:00<00:00, 352.85it/s, now=None]\u001b[A\n",
      "t:  28%|██████████████████████████████████                                                                                         | 94/339 [00:00<00:00, 482.62it/s, now=None]\u001b[A\n",
      "t:  50%|████████████████████████████████████████████████████████████▍                                                             | 168/339 [00:00<00:00, 599.24it/s, now=None]\u001b[A\n",
      "t:  71%|██████████████████████████████████████████████████████████████████████████████████████                                    | 239/339 [00:00<00:00, 642.69it/s, now=None]\u001b[A\n",
      "t:  92%|████████████████████████████████████████████████████████████████████████████████████████████████████████████████▎         | 312/339 [00:00<00:00, 674.05it/s, now=None]\u001b[A\n",
      "                                                                                                                                                                               \u001b[A"
     ]
    },
    {
     "name": "stdout",
     "output_type": "stream",
     "text": [
      "Moviepy - Done !                                          \n",
      "Moviepy - video ready D:\\multi_agents_rl\\videos\\rl-video-episode-1550.mp4\n",
      "Moviepy - Building video D:\\multi_agents_rl\\videos\\rl-video-episode-1600.mp4.\n",
      "Moviepy - Writing video D:\\multi_agents_rl\\videos\\rl-video-episode-1600.mp4\n",
      "\n",
      "Epoch 1588: : 4it [00:00,  8.25it/s, loss=0.375, v_num=11]"
     ]
    },
    {
     "name": "stderr",
     "output_type": "stream",
     "text": [
      "\n",
      "t:   0%|                                                                                                                                       | 0/1 [00:00<?, ?it/s, now=None]\u001b[A\n",
      "                                                                                                                                                                               \u001b[A"
     ]
    },
    {
     "name": "stdout",
     "output_type": "stream",
     "text": [
      "Moviepy - Done !                                          \n",
      "Moviepy - video ready D:\\multi_agents_rl\\videos\\rl-video-episode-1600.mp4\n",
      "Moviepy - Building video D:\\multi_agents_rl\\videos\\rl-video-episode-1600.mp4.\n",
      "Moviepy - Writing video D:\\multi_agents_rl\\videos\\rl-video-episode-1600.mp4\n",
      "\n",
      "Epoch 1589: : 4it [00:01,  2.21it/s, loss=0.384, v_num=11]"
     ]
    },
    {
     "name": "stderr",
     "output_type": "stream",
     "text": [
      "\n",
      "t:   0%|                                                                                                                                     | 0/401 [00:00<?, ?it/s, now=None]\u001b[A\n",
      "t:  10%|███████████▉                                                                                                               | 39/401 [00:00<00:00, 386.01it/s, now=None]\u001b[A\n",
      "t:  26%|███████████████████████████████▋                                                                                          | 104/401 [00:00<00:00, 534.39it/s, now=None]\u001b[A\n",
      "t:  45%|██████████████████████████████████████████████████████▍                                                                   | 179/401 [00:00<00:00, 629.23it/s, now=None]\u001b[A\n",
      "t:  64%|█████████████████████████████████████████████████████████████████████████████▌                                            | 255/401 [00:00<00:00, 677.73it/s, now=None]\u001b[A\n",
      "t:  83%|█████████████████████████████████████████████████████████████████████████████████████████████████████▎                    | 333/401 [00:00<00:00, 709.25it/s, now=None]\u001b[A\n",
      "                                                                                                                                                                               \u001b[A"
     ]
    },
    {
     "name": "stdout",
     "output_type": "stream",
     "text": [
      "Moviepy - Done !                                          \n",
      "Moviepy - video ready D:\\multi_agents_rl\\videos\\rl-video-episode-1600.mp4\n",
      "Moviepy - Building video D:\\multi_agents_rl\\videos\\rl-video-episode-1650.mp4.\n",
      "Moviepy - Writing video D:\\multi_agents_rl\\videos\\rl-video-episode-1650.mp4\n",
      "\n",
      "Epoch 1638: : 4it [00:00,  8.83it/s, loss=0.458, v_num=11]"
     ]
    },
    {
     "name": "stderr",
     "output_type": "stream",
     "text": [
      "\n",
      "t:   0%|                                                                                                                                       | 0/1 [00:00<?, ?it/s, now=None]\u001b[A\n",
      "                                                                                                                                                                               \u001b[A"
     ]
    },
    {
     "name": "stdout",
     "output_type": "stream",
     "text": [
      "Moviepy - Done !                                          \n",
      "Moviepy - video ready D:\\multi_agents_rl\\videos\\rl-video-episode-1650.mp4\n",
      "Moviepy - Building video D:\\multi_agents_rl\\videos\\rl-video-episode-1650.mp4.\n",
      "Moviepy - Writing video D:\\multi_agents_rl\\videos\\rl-video-episode-1650.mp4\n",
      "\n",
      "Epoch 1639: : 4it [00:01,  2.21it/s, loss=0.432, v_num=11]"
     ]
    },
    {
     "name": "stderr",
     "output_type": "stream",
     "text": [
      "\n",
      "t:   0%|                                                                                                                                     | 0/401 [00:00<?, ?it/s, now=None]\u001b[A\n",
      "t:  10%|████████████▎                                                                                                              | 40/401 [00:00<00:00, 398.32it/s, now=None]\u001b[A\n",
      "t:  26%|████████████████████████████████▏                                                                                         | 106/401 [00:00<00:00, 551.88it/s, now=None]\u001b[A\n",
      "t:  46%|███████████████████████████████████████████████████████▋                                                                  | 183/401 [00:00<00:00, 648.41it/s, now=None]\u001b[A\n",
      "t:  65%|███████████████████████████████████████████████████████████████████████████████▍                                          | 261/401 [00:00<00:00, 694.72it/s, now=None]\u001b[A\n",
      "t:  84%|██████████████████████████████████████████████████████████████████████████████████████████████████████▊                   | 338/401 [00:00<00:00, 721.67it/s, now=None]\u001b[A\n",
      "                                                                                                                                                                               \u001b[A"
     ]
    },
    {
     "name": "stdout",
     "output_type": "stream",
     "text": [
      "Moviepy - Done !                                          \n",
      "Moviepy - video ready D:\\multi_agents_rl\\videos\\rl-video-episode-1650.mp4\n",
      "Moviepy - Building video D:\\multi_agents_rl\\videos\\rl-video-episode-1700.mp4.\n",
      "Moviepy - Writing video D:\\multi_agents_rl\\videos\\rl-video-episode-1700.mp4\n",
      "\n",
      "Epoch 1688: : 4it [00:00,  9.05it/s, loss=0.544, v_num=11]"
     ]
    },
    {
     "name": "stderr",
     "output_type": "stream",
     "text": [
      "\n",
      "t:   0%|                                                                                                                                       | 0/1 [00:00<?, ?it/s, now=None]\u001b[A\n",
      "                                                                                                                                                                               \u001b[A"
     ]
    },
    {
     "name": "stdout",
     "output_type": "stream",
     "text": [
      "Moviepy - Done !                                          \n",
      "Moviepy - video ready D:\\multi_agents_rl\\videos\\rl-video-episode-1700.mp4\n",
      "Moviepy - Building video D:\\multi_agents_rl\\videos\\rl-video-episode-1700.mp4.\n",
      "Moviepy - Writing video D:\\multi_agents_rl\\videos\\rl-video-episode-1700.mp4\n",
      "\n",
      "Epoch 1689: : 4it [00:01,  2.23it/s, loss=0.597, v_num=11]"
     ]
    },
    {
     "name": "stderr",
     "output_type": "stream",
     "text": [
      "\n",
      "t:   0%|                                                                                                                                     | 0/401 [00:00<?, ?it/s, now=None]\u001b[A\n",
      "t:   9%|███████████                                                                                                                | 36/401 [00:00<00:01, 356.46it/s, now=None]\u001b[A\n",
      "t:  23%|████████████████████████████▊                                                                                              | 94/401 [00:00<00:00, 487.41it/s, now=None]\u001b[A\n",
      "t:  40%|█████████████████████████████████████████████████▎                                                                        | 162/401 [00:00<00:00, 572.54it/s, now=None]\u001b[A\n",
      "t:  57%|█████████████████████████████████████████████████████████████████████▋                                                    | 229/401 [00:00<00:00, 608.47it/s, now=None]\u001b[A\n",
      "t:  74%|██████████████████████████████████████████████████████████████████████████████████████████▎                               | 297/401 [00:00<00:00, 631.86it/s, now=None]\u001b[A\n",
      "t:  93%|████████████████████████████████████████████████████████████████████████████████████████████████████████████████▊         | 371/401 [00:00<00:00, 663.92it/s, now=None]\u001b[A\n",
      "                                                                                                                                                                               \u001b[A"
     ]
    },
    {
     "name": "stdout",
     "output_type": "stream",
     "text": [
      "Moviepy - Done !                                          \n",
      "Moviepy - video ready D:\\multi_agents_rl\\videos\\rl-video-episode-1700.mp4\n",
      "Epoch 1717: : 4it [00:00, 90.94it/s, loss=0.404, v_num=11] "
     ]
    },
    {
     "name": "stderr",
     "output_type": "stream",
     "text": [
      "D:\\multi_agents_rl\\env\\lib\\site-packages\\pytorch_lightning\\trainer\\trainer.py:653: UserWarning: Detected KeyboardInterrupt, attempting graceful shutdown...\n",
      "  rank_zero_warn(\"Detected KeyboardInterrupt, attempting graceful shutdown...\")\n"
     ]
    }
   ],
   "source": [
    "algo = DeepQLearning('LunarLander-v2')\n",
    "\n",
    "checkpoint_callback = ModelCheckpoint(dirpath=\"./checkpoints\", save_top_k=1,mode=\"max\", monitor=\"episode/Return\")\n",
    "\n",
    "trainer = Trainer(\n",
    "   accelerator='gpu',\n",
    "     devices=num_gpus,\n",
    "    max_epochs=10_000,\n",
    "    callbacks=[EarlyStopping(monitor='episode/Return', mode='max', patience=1000), checkpoint_callback]\n",
    ")\n",
    "\n",
    "trainer.fit(algo)\n"
   ]
  },
  {
   "cell_type": "code",
   "execution_count": 15,
   "id": "dd0c5062",
   "metadata": {},
   "outputs": [
    {
     "name": "stdout",
     "output_type": "stream",
     "text": [
      "0 samples in experience buffer. Filling...\n",
      "Moviepy - Building video D:\\multi_agents_rl\\videos\\rl-video-episode-0.mp4.\n",
      "Moviepy - Writing video D:\\multi_agents_rl\\videos\\rl-video-episode-0.mp4\n",
      "\n"
     ]
    },
    {
     "name": "stderr",
     "output_type": "stream",
     "text": [
      "                                                                                                                                                                               \r"
     ]
    },
    {
     "name": "stdout",
     "output_type": "stream",
     "text": [
      "Moviepy - Done !\n",
      "Moviepy - video ready D:\\multi_agents_rl\\videos\\rl-video-episode-0.mp4\n",
      "97 samples in experience buffer. Filling...\n",
      "222 samples in experience buffer. Filling...\n",
      "314 samples in experience buffer. Filling...\n",
      "382 samples in experience buffer. Filling...\n",
      "496 samples in experience buffer. Filling...\n",
      "565 samples in experience buffer. Filling...\n",
      "653 samples in experience buffer. Filling...\n",
      "748 samples in experience buffer. Filling...\n",
      "866 samples in experience buffer. Filling...\n",
      "936 samples in experience buffer. Filling...\n"
     ]
    }
   ],
   "source": [
    "algo = DeepQLearning.load_from_checkpoint(\"./checkpoints/epoch=2255-step=9024.ckpt\")"
   ]
  },
  {
   "cell_type": "code",
   "execution_count": null,
   "id": "2d78366a",
   "metadata": {},
   "outputs": [],
   "source": []
  }
 ],
 "metadata": {
  "kernelspec": {
   "display_name": "Python 3 (ipykernel)",
   "language": "python",
   "name": "python3"
  },
  "language_info": {
   "codemirror_mode": {
    "name": "ipython",
    "version": 3
   },
   "file_extension": ".py",
   "mimetype": "text/x-python",
   "name": "python",
   "nbconvert_exporter": "python",
   "pygments_lexer": "ipython3",
   "version": "3.10.7"
  }
 },
 "nbformat": 4,
 "nbformat_minor": 5
}
